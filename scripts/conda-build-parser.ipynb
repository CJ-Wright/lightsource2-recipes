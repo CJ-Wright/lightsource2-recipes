{
 "cells": [
  {
   "cell_type": "code",
   "execution_count": 22,
   "metadata": {
    "collapsed": false
   },
   "outputs": [],
   "source": [
    "\n",
    "from __future__ import (unicode_literals, absolute_import, division,\n",
    "                        print_function)\n",
    "import six\n",
    "\n",
    "import os\n",
    "from collections import OrderedDict\n",
    "\n",
    "def read_log_from_script(path_to_log):\n",
    "    \"\"\"\n",
    "    Parse the log that is output from the `dev-build` script\n",
    "\n",
    "    Parameters\n",
    "    ----------\n",
    "    path_to_log : str\n",
    "        The path to the log file that results from `bash dev-build > log 2>&1`\n",
    "\n",
    "    Yields\n",
    "    ------\n",
    "    package : str\n",
    "        The name of the package that is being built\n",
    "    output : list\n",
    "        The lines that were output for the build/test/upload of `package`\n",
    "    \"\"\"\n",
    "    BUILD_START_LINE = '/tmp/staged-recipes'\n",
    "    PACKAGE_NAME_LINE = '# $ anaconda upload '\n",
    "    full_path = os.path.abspath(path_to_log)\n",
    "    output = []\n",
    "    package_name = ''\n",
    "    with open(full_path, 'r') as f:\n",
    "        for line in f.readlines():\n",
    "            # remove white space and newline characters\n",
    "            line = line.strip()\n",
    "            if line.startswith(PACKAGE_NAME_LINE):\n",
    "                # split the line on the whitespace that looks something like:\n",
    "                # \"# $ anaconda upload /tmp/root/ramdisk/mc/conda-bld/linux-64/album-v0.0.2_py35.tar.bz2\"\n",
    "                built_package_path = line.split()[-1]\n",
    "                # remove the folder path\n",
    "                built_package_name = os.path.split(built_package_path)[-1]\n",
    "                # trim the '.tar.bz2'\n",
    "                built_name = built_package_name[:-8]\n",
    "            if line.startswith(BUILD_START_LINE):\n",
    "                # always have to treat the first package differently...\n",
    "                if package_name != '':\n",
    "                    yield package_name, built_name, output\n",
    "                package_name = os.path.split(line)[1]\n",
    "                built_name = '%s-build-name-not-found' % package_name\n",
    "                output = []\n",
    "            else:\n",
    "                output.append(line)\n",
    "    \n",
    "    yield package_name, built_name, output"
   ]
  },
  {
   "cell_type": "code",
   "execution_count": 61,
   "metadata": {
    "collapsed": true
   },
   "outputs": [],
   "source": [
    "def parse_conda_build(lines_iterable):\n",
    "    \"\"\"\n",
    "    Group the output from conda-build into\n",
    "    - 'build_init'\n",
    "    - 'build'\n",
    "    - 'test'\n",
    "    - 'upload'\n",
    "    \"\"\"\n",
    "    from collections import defaultdict\n",
    "    bundle = []\n",
    "    next_line_might_be_test = False\n",
    "    init = True\n",
    "    build = False\n",
    "    test = False\n",
    "    key = 'init'\n",
    "    ret = []\n",
    "    for line in lines_iterable:\n",
    "        bundle.append(line)\n",
    "        # init\n",
    "        if init:\n",
    "            if line.startswith(\"BUILD START\"):\n",
    "                line = bundle.pop()\n",
    "                ret.append((key, bundle))\n",
    "                bundle = [line]\n",
    "                init = False\n",
    "                build = True\n",
    "                key = 'build'\n",
    "        # build\n",
    "        if build:\n",
    "            if line.startswith(\"BUILD END\"):\n",
    "                next_line_might_be_test = True\n",
    "                build = False\n",
    "                continue\n",
    "        # determine if test or upload comes next\n",
    "        if next_line_might_be_test:\n",
    "            next_line_might_be_test = False\n",
    "            line = bundle.pop()\n",
    "            ret.append((key, bundle))\n",
    "            if line.startswith(\"TEST START\"):\n",
    "                test = True\n",
    "                key = 'test'\n",
    "                bundle = [line]\n",
    "            elif line.startswith('Nothing to test for'):\n",
    "                ret.append(('test', [line]))\n",
    "                bundle = []\n",
    "                key = 'upload'\n",
    "            else:\n",
    "                key = 'upload'\n",
    "                bundle = [line]\n",
    "        # test\n",
    "        if test:\n",
    "            if line.startswith(\"TEST END\"):\n",
    "                ret.append((key, bundle))\n",
    "                bundle = []\n",
    "                test = False\n",
    "                key='upload'\n",
    "    \n",
    "    if bundle:\n",
    "        ret.append((key, bundle))\n",
    "    return OrderedDict(ret)"
   ]
  },
  {
   "cell_type": "code",
   "execution_count": 62,
   "metadata": {
    "collapsed": false,
    "scrolled": false
   },
   "outputs": [
    {
     "name": "stdout",
     "output_type": "stream",
     "text": [
      "album-0.0.2-py35_0                                 -- ['init', 'build', 'test', 'upload']\n",
      "album-v0.0.2.post0-0_g6b05c00_py35                 -- ['init', 'build', 'test', 'upload']\n",
      "amx_configuration-2-1                              -- ['init', 'build', 'test', 'upload']\n",
      "analysis-2015_03-py35_2                            -- ['init', 'build', 'test', 'upload']\n",
      "args-0.1.0-py35_0                                  -- ['init', 'build', 'test', 'upload']\n",
      "autoconf-2.69-1                                    -- ['init', 'build', 'test', 'upload']\n",
      "automake-1.14-2                                    -- ['init', 'build', 'test', 'upload']\n",
      "bluesky-0.3.1-1_py35                               -- ['init', 'build', 'test', 'upload']\n",
      "bluesky-v0.4.0rc1.post105-105_g618d456_py35        -- ['init', 'build', 'test', 'upload']\n",
      "boltons-15.0.0-py35_0                              -- ['init', 'build', 'test', 'upload']\n",
      "boltons-16.0.0.post6-6_g968841a                    -- ['init', 'build', 'test', 'upload']\n",
      "channelarchiver-0.0.5-py35_0                       -- ['init', 'build', 'test', 'upload']\n",
      "channelarchiver-0.0.5.post6-6_gfac126f_py35        -- ['init', 'build', 'test', 'upload']\n",
      "chx_configuration-2-1                              -- ['init', 'build', 'test', 'upload']\n",
      "collection-2015_03-1                               -- ['init', 'build', 'test', 'upload']\n",
      "conda_etc-1-7                                      -- ['init', 'build', 'test', 'upload']\n",
      "csx2_configuration-1-2                             -- ['init', 'build', 'test', 'upload']\n",
      "csx_configuration-1-2                              -- ['init', 'build', 'test', 'upload']\n",
      "databroker-0.3.1-py35_0                            -- ['init', 'build', 'test', 'upload']\n",
      "databroker-v0.3.1.post0-0_g9499156_py35            -- ['init', 'build', 'test', 'upload']\n",
      "datamuxer-0.3.0-py35_0                             -- ['init', 'build', 'test', 'upload']\n",
      "datamuxer-v0.3.0.post0-0_g35b9b71_py35             -- ['init', 'build', 'test', 'upload']\n",
      "dataportal-v0.2.3.post10-10_gaa25851_py35          -- ['init', 'build', 'test', 'upload']\n",
      "doct-1.0.1-py35_0                                  -- ['init', 'build', 'test', 'upload']\n",
      "doct-v1.0.1.post7-7_gb811d2a_py35                  -- ['init', 'build', 'test', 'upload']\n",
      "filestore-0.2.2-py35_0                             -- ['init', 'build', 'test', 'upload']\n",
      "filestore-v0.2.2.post0-0_g5589127_py35             -- ['init', 'build', 'test', 'upload']\n",
      "hgtools-build-name-not-found                       -- ['init', 'build']\n",
      "historydict-1.0.0-py35_0                           -- ['init', 'build', 'test', 'upload']\n",
      "historydict-v1.0.0.post24-24_g6193dc2_py35         -- ['init', 'build', 'test', 'upload']\n",
      "humanize-build-name-not-found                      -- ['init', 'build']\n",
      "hxn_configuration-1-1                              -- ['init', 'build', 'test', 'upload']\n",
      "ixs_configuration-1-4                              -- ['init', 'build', 'test', 'upload']\n",
      "keyring-build-name-not-found                       -- ['init', 'build']\n",
      "lix_configuration-2-1                              -- ['init', 'build', 'test', 'upload']\n",
      "lmfit-0.8.3-py35_0                                 -- ['init', 'build', 'test', 'upload']\n",
      "lmfit-0.9.3rc1.post0-0_gdf953eb_py35               -- ['init', 'build', 'test', 'upload']\n",
      "m4-1.4.17-0                                        -- ['init', 'build', 'test', 'upload']\n",
      "metadatastore-0.3.1-py35_0                         -- ['init', 'build', 'test', 'upload']\n",
      "metadatastore-v0.3.0.post19-19_g66c8c4d_py35       -- ['init', 'build', 'test', 'upload']\n",
      "mongoengine-0.10.5-py35_2                          -- ['init', 'build', 'test', 'upload']\n",
      "ncurses-5.9-6                                      -- ['init', 'build', 'test', 'upload']\n",
      "nslsii_dev_configuration-1-3                       -- ['init', 'build', 'test', 'upload']\n",
      "ophyd-0.2.0rc1-1_py35                              -- ['init', 'build', 'test', 'upload']\n",
      "ophyd-0.2.0rc2.post45-py35_0                       -- ['init', 'build', 'test', 'upload']\n",
      "pcaspy-0.5.1.post17-1_g05ec8a9_py35                -- ['init', 'build', 'test', 'upload']\n",
      "pims-0.3.2-py35_1                                  -- ['init', 'build', 'test', 'upload']\n",
      "pims-v0.3.3rc1.post3-3_g1bea480_py35               -- ['init', 'build', 'test', 'upload']\n",
      "prettytable-0.7.2-py35_0                           -- ['init', 'build', 'test', 'upload']\n",
      "pyepics-3.2.5rc3.post13-13_g30b7929_py35           -- ['init', 'build', 'test', 'upload']\n",
      "pyepics-3.2.5rc3.post2-1_ge6c58d5_py35             -- ['init', 'build', 'test', 'upload']\n",
      "pymongo-3.2.1.post0-0_g22fd629_py35                -- ['init', 'build', 'test', 'upload']\n",
      "pymongo-build-name-not-found                       -- ['init', 'build']\n",
      "pyolog-v4.0.0.post5+g1a24409-py35_1                -- ['init', 'build', 'test', 'upload']\n",
      "pyolog-v4.0.0.post5+g1a24409.post2-2_g4a0581d_py35 -- ['init', 'build', 'test', 'upload']\n",
      "pyxrf-0.0.3-py35_1                                 -- ['init', 'build', 'test', 'upload']\n",
      "readline-build-name-not-found                      -- ['init', 'build']\n",
      "scikit-beam-v0.0.7.post18-18_gfa1b94b_py35         -- ['init', 'build', 'test', 'upload']\n",
      "slicerator-build-name-not-found                    -- ['init', 'build']\n",
      "slicerator-v0.9.7.post0-0_g837e7d5_py35            -- ['init', 'build', 'test', 'upload']\n",
      "suitcase-0.2.1-py35_0                              -- ['init', 'build', 'test', 'upload']\n",
      "suitcase-v0.2.2.post0-0_g2f47ea7_py35              -- ['init', 'build', 'test', 'upload']\n",
      "super_state_machine-build-name-not-found           -- ['init', 'build']\n",
      "tifffile-build-name-not-found                      -- ['init']\n",
      "tzlocal-build-name-not-found                       -- ['init', 'build']\n",
      "xray-vision-0.0.4-py35_0                           -- ['init', 'build', 'test', 'upload']\n",
      "xray-vision-v0.0.4.post7-7_ge6b680f_py35           -- ['init', 'build', 'test', 'upload']\n"
     ]
    }
   ],
   "source": [
    "log = 'build.log'\n",
    "gen = list(read_log_from_script(log))\n",
    "parsed = {built_name: parse_conda_build(lines) for name, built_name, lines in gen}\n",
    "width = max([len(name) for name in parsed.keys()])\n",
    "for name, groups in sorted(parsed.items()):\n",
    "    print(('{:%ds} -- {}' % width).format(name, [key for key, bundle in groups.items()]))"
   ]
  },
  {
   "cell_type": "code",
   "execution_count": 76,
   "metadata": {
    "collapsed": true
   },
   "outputs": [],
   "source": [
    "def parse_init(init_section):\n",
    "    ret = {}\n",
    "    for line in init_section:\n",
    "        if 'CONDA_CMD' in line:\n",
    "            ret['build_command'] = line.split('-->')[1].strip()\n",
    "    return ret"
   ]
  },
  {
   "cell_type": "code",
   "execution_count": 86,
   "metadata": {
    "collapsed": false,
    "scrolled": false
   },
   "outputs": [
    {
     "name": "stdout",
     "output_type": "stream",
     "text": [
      "CONDA_CMD is --> conda-build /tmp/staged-recipes/recipes/readline --python=3.5\n",
      "Removing old build environment\n",
      "Removing old work directory\n"
     ]
    },
    {
     "data": {
      "text/plain": [
       "{'build_command': 'conda-build /tmp/staged-recipes/recipes/readline --python=3.5'}"
      ]
     },
     "execution_count": 86,
     "metadata": {},
     "output_type": "execute_result"
    }
   ],
   "source": [
    "parse_init(parsed['readline-build-name-not-found']['init'])"
   ]
  },
  {
   "cell_type": "code",
   "execution_count": 135,
   "metadata": {
    "collapsed": false
   },
   "outputs": [],
   "source": [
    "def parse_build(build_section):\n",
    "    PACKAGE_NAME = 'Package: '\n",
    "    ERROR = \"Error: \"\n",
    "    TRACEBACK = 'Traceback (most recent call last):'\n",
    "    ret = {'error': []}\n",
    "    error = False\n",
    "    traceback = False\n",
    "    lines = []\n",
    "    for line in build_section:\n",
    "        if PACKAGE_NAME in line:\n",
    "            ret['built_name'] = line[len(PACKAGE_NAME):]\n",
    "        if line.startswith(ERROR) or error:\n",
    "            if line == '':\n",
    "                error = False\n",
    "                ret['error'].append(lines)\n",
    "                lines = []\n",
    "                ret['built_name'] = 'failed'\n",
    "            else:\n",
    "                error = True\n",
    "                lines.append(line)\n",
    "        if line == TRACEBACK or traceback:\n",
    "            traceback = True\n",
    "            lines.append(line)\n",
    "            ret['built_name'] = 'failed'\n",
    "            \n",
    "#         print(line)\n",
    "    # the error line might be the last one\n",
    "    if error:\n",
    "        ret['error'].append(lines)\n",
    "        lines = []\n",
    "        error = False\n",
    "    if traceback:\n",
    "        ret['error'].append(lines)\n",
    "        lines = []\n",
    "        error = False\n",
    "        traceback = False\n",
    "    return ret"
   ]
  },
  {
   "cell_type": "code",
   "execution_count": 138,
   "metadata": {
    "collapsed": false,
    "scrolled": false
   },
   "outputs": [
    {
     "data": {
      "text/plain": [
       "{'built_name': 'failed',\n",
       " 'error': [['Traceback (most recent call last):',\n",
       "   'File \"/tmp/root/ramdisk/mc/bin/conda-build\", line 5, in <module>',\n",
       "   'sys.exit(main())',\n",
       "   'File \"/tmp/root/ramdisk/mc/lib/python3.5/site-packages/conda_build/main_build.py\", line 190, in main',\n",
       "   'args_func(args, p)',\n",
       "   'File \"/tmp/root/ramdisk/mc/lib/python3.5/site-packages/conda_build/main_build.py\", line 468, in args_func',\n",
       "   'args.func(args, p)',\n",
       "   'File \"/tmp/root/ramdisk/mc/lib/python3.5/site-packages/conda_build/main_build.py\", line 391, in execute',\n",
       "   'override_channels=args.override_channels, include_recipe=args.include_recipe)',\n",
       "   'File \"/tmp/root/ramdisk/mc/lib/python3.5/site-packages/conda_build/build.py\", line 392, in build',\n",
       "   \"source.provide(m.path, m.get_section('source'))\",\n",
       "   'File \"/tmp/root/ramdisk/mc/lib/python3.5/site-packages/conda_build/source.py\", line 268, in provide',\n",
       "   'git_source(meta, recipe_dir)',\n",
       "   'File \"/tmp/root/ramdisk/mc/lib/python3.5/site-packages/conda_build/source.py\", line 134, in git_source',\n",
       "   \"check_call([git, 'checkout', checkout], cwd=WORK_DIR)\",\n",
       "   'File \"/tmp/root/ramdisk/mc/lib/python3.5/subprocess.py\", line 584, in check_call',\n",
       "   'raise CalledProcessError(retcode, cmd)',\n",
       "   \"subprocess.CalledProcessError: Command '['/usr/bin/git', 'checkout', '0.9.7']' returned non-zero exit status 1\"]]}"
      ]
     },
     "execution_count": 138,
     "metadata": {},
     "output_type": "execute_result"
    }
   ],
   "source": [
    "ret = parse_build(parsed['slicerator-build-name-not-found']['build'])\n",
    "\n",
    "ret"
   ]
  },
  {
   "cell_type": "code",
   "execution_count": 139,
   "metadata": {
    "collapsed": false
   },
   "outputs": [
    {
     "ename": "SyntaxError",
     "evalue": "unexpected EOF while parsing (<ipython-input-139-2aeacb6a9ad6>, line 3)",
     "output_type": "error",
     "traceback": [
      "\u001b[1;36m  File \u001b[1;32m\"<ipython-input-139-2aeacb6a9ad6>\"\u001b[1;36m, line \u001b[1;32m3\u001b[0m\n\u001b[1;33m    for line in test_section:\u001b[0m\n\u001b[1;37m                             ^\u001b[0m\n\u001b[1;31mSyntaxError\u001b[0m\u001b[1;31m:\u001b[0m unexpected EOF while parsing\n"
     ]
    }
   ],
   "source": [
    "def parse_test(test_section):\n",
    "    ret = {'error': {}}\n",
    "    for line in test_section:\n",
    "        print(line)"
   ]
  },
  {
   "cell_type": "code",
   "execution_count": null,
   "metadata": {
    "collapsed": true
   },
   "outputs": [],
   "source": []
  }
 ],
 "metadata": {
  "kernelspec": {
   "display_name": "Python 3",
   "language": "python",
   "name": "python3"
  },
  "language_info": {
   "codemirror_mode": {
    "name": "ipython",
    "version": 3
   },
   "file_extension": ".py",
   "mimetype": "text/x-python",
   "name": "python",
   "nbconvert_exporter": "python",
   "pygments_lexer": "ipython3",
   "version": "3.5.1"
  }
 },
 "nbformat": 4,
 "nbformat_minor": 0
}
