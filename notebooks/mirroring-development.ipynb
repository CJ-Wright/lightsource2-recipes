{
 "cells": [
  {
   "cell_type": "code",
   "execution_count": 98,
   "metadata": {
    "collapsed": false
   },
   "outputs": [],
   "source": [
    "import binstar_client\n",
    "\n",
    "public_token = open('/home/edill/dev/dotfiles/tokens/lightsource2-testing.token', 'r').read().strip()\n",
    "public = binstar_client.Binstar(token=token)\n",
    "public_condaforge = public.show_channel('main', 'conda-forge')"
   ]
  },
  {
   "cell_type": "code",
   "execution_count": 99,
   "metadata": {
    "collapsed": false
   },
   "outputs": [
    {
     "data": {
      "text/plain": [
       "{'attrs': {'arch': 'x86_64',\n",
       "  'build': 'py27_0',\n",
       "  'build_number': 0,\n",
       "  'depends': ['python 2.7*'],\n",
       "  'license': 'BSD 3-Clause',\n",
       "  'machine': 'x86_64',\n",
       "  'operatingsystem': 'linux',\n",
       "  'platform': 'linux',\n",
       "  'subdir': 'linux-64',\n",
       "  'target-triplet': 'x86_64-any-linux'},\n",
       " 'basename': 'linux-64/affine-1.2.0-py27_0.tar.bz2',\n",
       " 'dependencies': {'depends': [{'name': 'python', 'specs': [['==', '2.7']]}]},\n",
       " 'description': None,\n",
       " 'distribution_type': 'conda',\n",
       " 'download_url': '//api.anaconda.org/download/conda-forge/affine/1.2.0/linux-64/affine-1.2.0-py27_0.tar.bz2',\n",
       " 'full_name': 'conda-forge/affine/1.2.0/linux-64/affine-1.2.0-py27_0.tar.bz2',\n",
       " 'md5': '5523b283cbc93fd7f7c31ce634133c72',\n",
       " 'ndownloads': 55,\n",
       " 'owner': 'conda-forge',\n",
       " 'size': 19504,\n",
       " 'type': 'conda',\n",
       " 'upload_time': '2016-03-29 17:22:50.403000+00:00',\n",
       " 'version': '1.2.0'}"
      ]
     },
     "execution_count": 99,
     "metadata": {},
     "output_type": "execute_result"
    }
   ],
   "source": [
    "public_condaforge['files'][0]"
   ]
  },
  {
   "cell_type": "code",
   "execution_count": 46,
   "metadata": {
    "collapsed": false
   },
   "outputs": [],
   "source": [
    "nsls2_token = open('/home/edill/dev/dotfiles/tokens/edill.anaconda.nsls2.token').read().strip()\n",
    "nsls2 = binstar_client.Binstar(domain='https://anaconda.nsls2.bnl.gov/api',\n",
    "                              token=nsls2_token)"
   ]
  },
  {
   "cell_type": "code",
   "execution_count": 53,
   "metadata": {
    "collapsed": false
   },
   "outputs": [],
   "source": [
    "nsls2tag = nsls2.show_channel('main', 'nsls2-tag')"
   ]
  },
  {
   "cell_type": "code",
   "execution_count": null,
   "metadata": {
    "collapsed": true
   },
   "outputs": [],
   "source": [
    "'cat'.split"
   ]
  },
  {
   "cell_type": "code",
   "execution_count": 60,
   "metadata": {
    "collapsed": false
   },
   "outputs": [],
   "source": [
    "f0 = nsls2tag['files'][0]\n",
    "login, package_name, version, platform, filename = f0['full_name'].split('/')"
   ]
  },
  {
   "cell_type": "code",
   "execution_count": 61,
   "metadata": {
    "collapsed": false
   },
   "outputs": [
    {
     "data": {
      "text/plain": [
       "('nsls2-tag',\n",
       " 'xray-vision',\n",
       " '0.0.4',\n",
       " 'linux-64',\n",
       " 'xray-vision-0.0.4-py35_0.tar.bz2')"
      ]
     },
     "execution_count": 61,
     "metadata": {},
     "output_type": "execute_result"
    }
   ],
   "source": [
    "login, package_name, version, platform, filename "
   ]
  },
  {
   "cell_type": "code",
   "execution_count": 70,
   "metadata": {
    "collapsed": false
   },
   "outputs": [],
   "source": [
    "ret = nsls2.download(login, \n",
    "                     package_name, \n",
    "                     f0['version'], \n",
    "                     f0['basename'])"
   ]
  },
  {
   "cell_type": "code",
   "execution_count": 85,
   "metadata": {
    "collapsed": false
   },
   "outputs": [],
   "source": [
    "with open('/tmp/{}'.format(f0['basename'].split('/')[-1]), 'wb') as f:\n",
    "#     for chunk in ret.iter_content(chunk_size=512 * 1024):\n",
    "#         if chunk:\n",
    "    f.write(ret.content)\n"
   ]
  },
  {
   "cell_type": "code",
   "execution_count": 86,
   "metadata": {
    "collapsed": true
   },
   "outputs": [],
   "source": [
    "import tempfile"
   ]
  },
  {
   "cell_type": "code",
   "execution_count": 92,
   "metadata": {
    "collapsed": false
   },
   "outputs": [],
   "source": [
    "tempdir = tempfile.TemporaryDirectory(prefix='conda_downloader')"
   ]
  },
  {
   "cell_type": "code",
   "execution_count": 96,
   "metadata": {
    "collapsed": false
   },
   "outputs": [
    {
     "data": {
      "text/plain": [
       "'/tmp/conda_downloader2llsgezb'"
      ]
     },
     "execution_count": 96,
     "metadata": {},
     "output_type": "execute_result"
    }
   ],
   "source": [
    "tempdir.name"
   ]
  },
  {
   "cell_type": "code",
   "execution_count": 77,
   "metadata": {
    "collapsed": false
   },
   "outputs": [
    {
     "ename": "BinstarError",
     "evalue": "('package name xray-vision already exists', 400)",
     "output_type": "error",
     "traceback": [
      "\u001b[1;31m---------------------------------------------------------------------------\u001b[0m",
      "\u001b[1;31mBinstarError\u001b[0m                              Traceback (most recent call last)",
      "\u001b[1;32m<ipython-input-77-317fbf628ca0>\u001b[0m in \u001b[0;36m<module>\u001b[1;34m()\u001b[0m\n\u001b[0;32m      6\u001b[0m \u001b[1;31m#                   description=f0['description'],\u001b[0m\u001b[1;33m\u001b[0m\u001b[1;33m\u001b[0m\u001b[0m\n\u001b[0;32m      7\u001b[0m \u001b[1;31m#                   dependencies=f0['dependencies'],\u001b[0m\u001b[1;33m\u001b[0m\u001b[1;33m\u001b[0m\u001b[0m\n\u001b[1;32m----> 8\u001b[1;33m                   \u001b[0mattrs\u001b[0m\u001b[1;33m=\u001b[0m\u001b[0mf0\u001b[0m\u001b[1;33m[\u001b[0m\u001b[1;34m'attrs'\u001b[0m\u001b[1;33m]\u001b[0m\u001b[1;33m\u001b[0m\u001b[0m\n\u001b[0m\u001b[0;32m      9\u001b[0m                  ) \n",
      "\u001b[1;32m/home/edill/miniconda/lib/python3.5/site-packages/binstar_client/__init__.py\u001b[0m in \u001b[0;36madd_package\u001b[1;34m(self, login, package_name, summary, license, public, license_url, attrs)\u001b[0m\n\u001b[0;32m    329\u001b[0m         \u001b[0mdata\u001b[0m\u001b[1;33m,\u001b[0m \u001b[0mheaders\u001b[0m \u001b[1;33m=\u001b[0m \u001b[0mjencode\u001b[0m\u001b[1;33m(\u001b[0m\u001b[0mpayload\u001b[0m\u001b[1;33m)\u001b[0m\u001b[1;33m\u001b[0m\u001b[0m\n\u001b[0;32m    330\u001b[0m         \u001b[0mres\u001b[0m \u001b[1;33m=\u001b[0m \u001b[0mself\u001b[0m\u001b[1;33m.\u001b[0m\u001b[0msession\u001b[0m\u001b[1;33m.\u001b[0m\u001b[0mpost\u001b[0m\u001b[1;33m(\u001b[0m\u001b[0murl\u001b[0m\u001b[1;33m,\u001b[0m \u001b[0mdata\u001b[0m\u001b[1;33m=\u001b[0m\u001b[0mdata\u001b[0m\u001b[1;33m,\u001b[0m \u001b[0mheaders\u001b[0m\u001b[1;33m=\u001b[0m\u001b[0mheaders\u001b[0m\u001b[1;33m)\u001b[0m\u001b[1;33m\u001b[0m\u001b[0m\n\u001b[1;32m--> 331\u001b[1;33m         \u001b[0mself\u001b[0m\u001b[1;33m.\u001b[0m\u001b[0m_check_response\u001b[0m\u001b[1;33m(\u001b[0m\u001b[0mres\u001b[0m\u001b[1;33m)\u001b[0m\u001b[1;33m\u001b[0m\u001b[0m\n\u001b[0m\u001b[0;32m    332\u001b[0m         \u001b[1;32mreturn\u001b[0m \u001b[0mres\u001b[0m\u001b[1;33m.\u001b[0m\u001b[0mjson\u001b[0m\u001b[1;33m(\u001b[0m\u001b[1;33m)\u001b[0m\u001b[1;33m\u001b[0m\u001b[0m\n\u001b[0;32m    333\u001b[0m \u001b[1;33m\u001b[0m\u001b[0m\n",
      "\u001b[1;32m/home/edill/miniconda/lib/python3.5/site-packages/binstar_client/__init__.py\u001b[0m in \u001b[0;36m_check_response\u001b[1;34m(self, res, allowed)\u001b[0m\n\u001b[0;32m    194\u001b[0m                 \u001b[0mErrCls\u001b[0m \u001b[1;33m=\u001b[0m \u001b[0merrors\u001b[0m\u001b[1;33m.\u001b[0m\u001b[0mServerError\u001b[0m\u001b[1;33m\u001b[0m\u001b[0m\n\u001b[0;32m    195\u001b[0m \u001b[1;33m\u001b[0m\u001b[0m\n\u001b[1;32m--> 196\u001b[1;33m             \u001b[1;32mraise\u001b[0m \u001b[0mErrCls\u001b[0m\u001b[1;33m(\u001b[0m\u001b[0mmsg\u001b[0m\u001b[1;33m,\u001b[0m \u001b[0mres\u001b[0m\u001b[1;33m.\u001b[0m\u001b[0mstatus_code\u001b[0m\u001b[1;33m)\u001b[0m\u001b[1;33m\u001b[0m\u001b[0m\n\u001b[0m\u001b[0;32m    197\u001b[0m \u001b[1;33m\u001b[0m\u001b[0m\n\u001b[0;32m    198\u001b[0m     \u001b[1;32mdef\u001b[0m \u001b[0muser\u001b[0m\u001b[1;33m(\u001b[0m\u001b[0mself\u001b[0m\u001b[1;33m,\u001b[0m \u001b[0mlogin\u001b[0m\u001b[1;33m=\u001b[0m\u001b[1;32mNone\u001b[0m\u001b[1;33m)\u001b[0m\u001b[1;33m:\u001b[0m\u001b[1;33m\u001b[0m\u001b[0m\n",
      "\u001b[1;31mBinstarError\u001b[0m: ('package name xray-vision already exists', 400)"
     ]
    }
   ],
   "source": [
    "nsls2.add_package(login='edill', package_name=package_name, \n",
    "#                   release=f0['version'], \n",
    "#                   basename=f0['basename'],\n",
    "#                   fd=ret.content, \n",
    "#                   distribution_type=f0['distribution_type'],\n",
    "#                   description=f0['description'],\n",
    "#                   dependencies=f0['dependencies'],\n",
    "                  attrs=f0['attrs']\n",
    "                 ) "
   ]
  },
  {
   "cell_type": "code",
   "execution_count": 78,
   "metadata": {
    "collapsed": true
   },
   "outputs": [],
   "source": [
    "import subprocess"
   ]
  },
  {
   "cell_type": "code",
   "execution_count": null,
   "metadata": {
    "collapsed": true
   },
   "outputs": [],
   "source": [
    "subprocess.check_call(['anaconda', 'upload', '-u'])"
   ]
  },
  {
   "cell_type": "code",
   "execution_count": 76,
   "metadata": {
    "collapsed": false
   },
   "outputs": [
    {
     "ename": "NotFound",
     "evalue": "(\"release version=u'0.0.4' does not exist\", 404)",
     "output_type": "error",
     "traceback": [
      "\u001b[1;31m---------------------------------------------------------------------------\u001b[0m",
      "\u001b[1;31mNotFound\u001b[0m                                  Traceback (most recent call last)",
      "\u001b[1;32m<ipython-input-76-568e23597627>\u001b[0m in \u001b[0;36m<module>\u001b[1;34m()\u001b[0m\n\u001b[0;32m      6\u001b[0m              \u001b[0mdescription\u001b[0m\u001b[1;33m=\u001b[0m\u001b[0mf0\u001b[0m\u001b[1;33m[\u001b[0m\u001b[1;34m'description'\u001b[0m\u001b[1;33m]\u001b[0m\u001b[1;33m,\u001b[0m\u001b[1;33m\u001b[0m\u001b[0m\n\u001b[0;32m      7\u001b[0m              \u001b[0mdependencies\u001b[0m\u001b[1;33m=\u001b[0m\u001b[0mf0\u001b[0m\u001b[1;33m[\u001b[0m\u001b[1;34m'dependencies'\u001b[0m\u001b[1;33m]\u001b[0m\u001b[1;33m,\u001b[0m\u001b[1;33m\u001b[0m\u001b[0m\n\u001b[1;32m----> 8\u001b[1;33m              \u001b[0mattrs\u001b[0m\u001b[1;33m=\u001b[0m\u001b[0mf0\u001b[0m\u001b[1;33m[\u001b[0m\u001b[1;34m'attrs'\u001b[0m\u001b[1;33m]\u001b[0m\u001b[1;33m\u001b[0m\u001b[0m\n\u001b[0m\u001b[0;32m      9\u001b[0m             )\n",
      "\u001b[1;32m/home/edill/miniconda/lib/python3.5/site-packages/binstar_client/__init__.py\u001b[0m in \u001b[0;36mupload\u001b[1;34m(self, login, package_name, release, basename, fd, distribution_type, description, md5, size, dependencies, attrs, channels, callback)\u001b[0m\n\u001b[0;32m    472\u001b[0m         \u001b[0mdata\u001b[0m\u001b[1;33m,\u001b[0m \u001b[0mheaders\u001b[0m \u001b[1;33m=\u001b[0m \u001b[0mjencode\u001b[0m\u001b[1;33m(\u001b[0m\u001b[0mpayload\u001b[0m\u001b[1;33m)\u001b[0m\u001b[1;33m\u001b[0m\u001b[0m\n\u001b[0;32m    473\u001b[0m         \u001b[0mres\u001b[0m \u001b[1;33m=\u001b[0m \u001b[0mself\u001b[0m\u001b[1;33m.\u001b[0m\u001b[0msession\u001b[0m\u001b[1;33m.\u001b[0m\u001b[0mpost\u001b[0m\u001b[1;33m(\u001b[0m\u001b[0murl\u001b[0m\u001b[1;33m,\u001b[0m \u001b[0mdata\u001b[0m\u001b[1;33m=\u001b[0m\u001b[0mdata\u001b[0m\u001b[1;33m,\u001b[0m \u001b[0mheaders\u001b[0m\u001b[1;33m=\u001b[0m\u001b[0mheaders\u001b[0m\u001b[1;33m)\u001b[0m\u001b[1;33m\u001b[0m\u001b[0m\n\u001b[1;32m--> 474\u001b[1;33m         \u001b[0mself\u001b[0m\u001b[1;33m.\u001b[0m\u001b[0m_check_response\u001b[0m\u001b[1;33m(\u001b[0m\u001b[0mres\u001b[0m\u001b[1;33m)\u001b[0m\u001b[1;33m\u001b[0m\u001b[0m\n\u001b[0m\u001b[0;32m    475\u001b[0m         \u001b[0mobj\u001b[0m \u001b[1;33m=\u001b[0m \u001b[0mres\u001b[0m\u001b[1;33m.\u001b[0m\u001b[0mjson\u001b[0m\u001b[1;33m(\u001b[0m\u001b[1;33m)\u001b[0m\u001b[1;33m\u001b[0m\u001b[0m\n\u001b[0;32m    476\u001b[0m \u001b[1;33m\u001b[0m\u001b[0m\n",
      "\u001b[1;32m/home/edill/miniconda/lib/python3.5/site-packages/binstar_client/__init__.py\u001b[0m in \u001b[0;36m_check_response\u001b[1;34m(self, res, allowed)\u001b[0m\n\u001b[0;32m    194\u001b[0m                 \u001b[0mErrCls\u001b[0m \u001b[1;33m=\u001b[0m \u001b[0merrors\u001b[0m\u001b[1;33m.\u001b[0m\u001b[0mServerError\u001b[0m\u001b[1;33m\u001b[0m\u001b[0m\n\u001b[0;32m    195\u001b[0m \u001b[1;33m\u001b[0m\u001b[0m\n\u001b[1;32m--> 196\u001b[1;33m             \u001b[1;32mraise\u001b[0m \u001b[0mErrCls\u001b[0m\u001b[1;33m(\u001b[0m\u001b[0mmsg\u001b[0m\u001b[1;33m,\u001b[0m \u001b[0mres\u001b[0m\u001b[1;33m.\u001b[0m\u001b[0mstatus_code\u001b[0m\u001b[1;33m)\u001b[0m\u001b[1;33m\u001b[0m\u001b[0m\n\u001b[0m\u001b[0;32m    197\u001b[0m \u001b[1;33m\u001b[0m\u001b[0m\n\u001b[0;32m    198\u001b[0m     \u001b[1;32mdef\u001b[0m \u001b[0muser\u001b[0m\u001b[1;33m(\u001b[0m\u001b[0mself\u001b[0m\u001b[1;33m,\u001b[0m \u001b[0mlogin\u001b[0m\u001b[1;33m=\u001b[0m\u001b[1;32mNone\u001b[0m\u001b[1;33m)\u001b[0m\u001b[1;33m:\u001b[0m\u001b[1;33m\u001b[0m\u001b[0m\n",
      "\u001b[1;31mNotFound\u001b[0m: (\"release version=u'0.0.4' does not exist\", 404)"
     ]
    }
   ],
   "source": [
    "nsls2.upload(login='edill', package_name=package_name, \n",
    "             release=f0['version'], \n",
    "             basename=f0['basename'],\n",
    "             fd=ret.content, \n",
    "             distribution_type=f0['distribution_type'],\n",
    "             description=f0['description'],\n",
    "             dependencies=f0['dependencies'],\n",
    "             attrs=f0['attrs']\n",
    "            )"
   ]
  },
  {
   "cell_type": "code",
   "execution_count": 74,
   "metadata": {
    "collapsed": true
   },
   "outputs": [],
   "source": [
    "nsls2.add_package?"
   ]
  },
  {
   "cell_type": "code",
   "execution_count": 97,
   "metadata": {
    "collapsed": true
   },
   "outputs": [],
   "source": [
    "subprocess.Popen?"
   ]
  },
  {
   "cell_type": "code",
   "execution_count": 68,
   "metadata": {
    "collapsed": false
   },
   "outputs": [
    {
     "data": {
      "text/plain": [
       "{'attrs': {'arch': 'x86_64',\n",
       "  'build': 'py35_0',\n",
       "  'build_number': 0,\n",
       "  'depends': ['matplotlib', 'numpy', 'pyqt', 'python 3.5*', 'six'],\n",
       "  'license': '3-Clause BSD',\n",
       "  'machine': 'x86_64',\n",
       "  'operatingsystem': 'linux',\n",
       "  'platform': 'linux',\n",
       "  'subdir': 'linux-64',\n",
       "  'target-triplet': 'x86_64-any-linux'},\n",
       " 'basename': 'linux-64/xray-vision-0.0.4-py35_0.tar.bz2',\n",
       " 'dependencies': {'depends': [{'name': 'matplotlib', 'specs': []},\n",
       "   {'name': 'numpy', 'specs': []},\n",
       "   {'name': 'pyqt', 'specs': []},\n",
       "   {'name': 'python', 'specs': [['==', '3.5']]},\n",
       "   {'name': 'six', 'specs': []}]},\n",
       " 'description': None,\n",
       " 'distribution_type': 'conda',\n",
       " 'download_url': '//anaconda.nsls2.bnl.gov/download/nsls2-tag/xray-vision/0.0.4/linux-64/xray-vision-0.0.4-py35_0.tar.bz2',\n",
       " 'full_name': 'nsls2-tag/xray-vision/0.0.4/linux-64/xray-vision-0.0.4-py35_0.tar.bz2',\n",
       " 'md5': '3a0f56e4e559aba43f9da22a16c580cb',\n",
       " 'ndownloads': 0,\n",
       " 'owner': 'nsls2-tag',\n",
       " 'size': 136493,\n",
       " 'type': 'conda',\n",
       " 'upload_time': '2016-02-10 20:43:25.343000+00:00',\n",
       " 'version': '0.0.4'}"
      ]
     },
     "execution_count": 68,
     "metadata": {},
     "output_type": "execute_result"
    }
   ],
   "source": [
    "f0a\n"
   ]
  },
  {
   "cell_type": "code",
   "execution_count": 49,
   "metadata": {
    "collapsed": false
   },
   "outputs": [
    {
     "data": {
      "text/plain": [
       "{'attrs': {'arch': 'x86_64',\n",
       "  'build': 'py35_0',\n",
       "  'build_number': 0,\n",
       "  'depends': ['matplotlib', 'numpy', 'pyqt', 'python 3.5*', 'six'],\n",
       "  'license': '3-Clause BSD',\n",
       "  'machine': 'x86_64',\n",
       "  'operatingsystem': 'linux',\n",
       "  'platform': 'linux',\n",
       "  'subdir': 'linux-64',\n",
       "  'target-triplet': 'x86_64-any-linux'},\n",
       " 'basename': 'linux-64/xray-vision-0.0.4-py35_0.tar.bz2',\n",
       " 'dependencies': {'depends': [{'name': 'matplotlib', 'specs': []},\n",
       "   {'name': 'numpy', 'specs': []},\n",
       "   {'name': 'pyqt', 'specs': []},\n",
       "   {'name': 'python', 'specs': [['==', '3.5']]},\n",
       "   {'name': 'six', 'specs': []}]},\n",
       " 'description': None,\n",
       " 'distribution_type': 'conda',\n",
       " 'download_url': '//anaconda.nsls2.bnl.gov/download/nsls2-tag/xray-vision/0.0.4/linux-64/xray-vision-0.0.4-py35_0.tar.bz2',\n",
       " 'full_name': 'nsls2-tag/xray-vision/0.0.4/linux-64/xray-vision-0.0.4-py35_0.tar.bz2',\n",
       " 'md5': '3a0f56e4e559aba43f9da22a16c580cb',\n",
       " 'ndownloads': 0,\n",
       " 'owner': 'nsls2-tag',\n",
       " 'size': 136493,\n",
       " 'type': 'conda',\n",
       " 'upload_time': '2016-02-10 20:43:25.343000+00:00',\n",
       " 'version': '0.0.4'}"
      ]
     },
     "execution_count": 49,
     "metadata": {},
     "output_type": "execute_result"
    }
   ],
   "source": [
    "nsls2tag['files'][0]"
   ]
  },
  {
   "cell_type": "code",
   "execution_count": 18,
   "metadata": {
    "collapsed": false
   },
   "outputs": [],
   "source": [
    "anaconda_packages = public.user_packages('anaconda')"
   ]
  },
  {
   "cell_type": "code",
   "execution_count": 19,
   "metadata": {
    "collapsed": true
   },
   "outputs": [],
   "source": [
    "condaforge_packages = public.user_packages('conda-forge')"
   ]
  },
  {
   "cell_type": "code",
   "execution_count": 28,
   "metadata": {
    "collapsed": true
   },
   "outputs": [],
   "source": [
    "condaforge_channel = public.show_channel('main', 'conda-forge')"
   ]
  },
  {
   "cell_type": "code",
   "execution_count": 29,
   "metadata": {
    "collapsed": false
   },
   "outputs": [
    {
     "data": {
      "text/plain": [
       "{'attrs': {'arch': 'x86_64',\n",
       "  'build': 'py27_0',\n",
       "  'build_number': 0,\n",
       "  'depends': ['python 2.7*'],\n",
       "  'license': 'BSD 3-Clause',\n",
       "  'machine': 'x86_64',\n",
       "  'operatingsystem': 'linux',\n",
       "  'platform': 'linux',\n",
       "  'subdir': 'linux-64',\n",
       "  'target-triplet': 'x86_64-any-linux'},\n",
       " 'basename': 'linux-64/affine-1.2.0-py27_0.tar.bz2',\n",
       " 'dependencies': {'depends': [{'name': 'python', 'specs': [['==', '2.7']]}]},\n",
       " 'description': None,\n",
       " 'distribution_type': 'conda',\n",
       " 'download_url': '//api.anaconda.org/download/conda-forge/affine/1.2.0/linux-64/affine-1.2.0-py27_0.tar.bz2',\n",
       " 'full_name': 'conda-forge/affine/1.2.0/linux-64/affine-1.2.0-py27_0.tar.bz2',\n",
       " 'md5': '5523b283cbc93fd7f7c31ce634133c72',\n",
       " 'ndownloads': 55,\n",
       " 'owner': 'conda-forge',\n",
       " 'size': 19504,\n",
       " 'type': 'conda',\n",
       " 'upload_time': '2016-03-29 17:22:50.403000+00:00',\n",
       " 'version': '1.2.0'}"
      ]
     },
     "execution_count": 29,
     "metadata": {},
     "output_type": "execute_result"
    }
   ],
   "source": [
    "condaforge_channel['files'][0]"
   ]
  },
  {
   "cell_type": "code",
   "execution_count": 21,
   "metadata": {
    "collapsed": false
   },
   "outputs": [
    {
     "data": {
      "text/plain": [
       "{'app_entry': {},\n",
       " 'app_summary': {},\n",
       " 'app_type': {},\n",
       " 'conda_platforms': ['linux-64', 'win-32', 'win-64', 'osx-64'],\n",
       " 'full_name': 'conda-forge/affine',\n",
       " 'html_url': 'http://anaconda.org/conda-forge/affine',\n",
       " 'id': '56fab9ea0697b60a633d575a',\n",
       " 'latest_version': '2.0.0.post1',\n",
       " 'name': 'affine',\n",
       " 'owner': 'conda-forge',\n",
       " 'package_types': ['conda'],\n",
       " 'public': True,\n",
       " 'revision': 39,\n",
       " 'summary': 'Matrices describing affine transformation of the plane',\n",
       " 'url': 'http://api.anaconda.org/packages/conda-forge/affine',\n",
       " 'versions': ['1.2.0', '1.3.0', '2.0.0.post1']}"
      ]
     },
     "execution_count": 21,
     "metadata": {},
     "output_type": "execute_result"
    }
   ],
   "source": [
    "condaforge_packages[0]"
   ]
  },
  {
   "cell_type": "code",
   "execution_count": 30,
   "metadata": {
    "collapsed": false
   },
   "outputs": [
    {
     "data": {
      "text/plain": [
       "{'app_entry': {},\n",
       " 'app_summary': {},\n",
       " 'app_type': {},\n",
       " 'conda_platforms': ['linux-64', 'linux-32', 'osx-64'],\n",
       " 'full_name': 'anaconda/abstract-rendering',\n",
       " 'html_url': 'http://anaconda.org/anaconda/abstract-rendering',\n",
       " 'id': '5637ebd89c73330b8ae7dc3e',\n",
       " 'latest_version': '0.5.1',\n",
       " 'name': 'abstract-rendering',\n",
       " 'owner': 'anaconda',\n",
       " 'package_types': ['conda'],\n",
       " 'public': True,\n",
       " 'revision': 65,\n",
       " 'summary': '',\n",
       " 'url': 'http://api.anaconda.org/packages/anaconda/abstract-rendering',\n",
       " 'versions': ['0.5.1', '0.5.0', '0.3.1', '0.4.0', '0.1.0']}"
      ]
     },
     "execution_count": 30,
     "metadata": {},
     "output_type": "execute_result"
    }
   ],
   "source": [
    "anaconda_packages[4]"
   ]
  },
  {
   "cell_type": "code",
   "execution_count": 27,
   "metadata": {
    "collapsed": true
   },
   "outputs": [],
   "source": [
    "public.download??"
   ]
  },
  {
   "cell_type": "code",
   "execution_count": 23,
   "metadata": {
    "collapsed": false
   },
   "outputs": [
    {
     "ename": "TypeError",
     "evalue": "download() missing 3 required positional arguments: 'package_name', 'release', and 'basename'",
     "output_type": "error",
     "traceback": [
      "\u001b[1;31m---------------------------------------------------------------------------\u001b[0m",
      "\u001b[1;31mTypeError\u001b[0m                                 Traceback (most recent call last)",
      "\u001b[1;32m<ipython-input-23-fb026409b318>\u001b[0m in \u001b[0;36m<module>\u001b[1;34m()\u001b[0m\n\u001b[1;32m----> 1\u001b[1;33m \u001b[0mpublic\u001b[0m\u001b[1;33m.\u001b[0m\u001b[0mdownload\u001b[0m\u001b[1;33m(\u001b[0m\u001b[0manaconda_packages\u001b[0m\u001b[1;33m[\u001b[0m\u001b[1;36m0\u001b[0m\u001b[1;33m]\u001b[0m\u001b[1;33m[\u001b[0m\u001b[1;34m'url'\u001b[0m\u001b[1;33m]\u001b[0m\u001b[1;33m)\u001b[0m\u001b[1;33m\u001b[0m\u001b[0m\n\u001b[0m",
      "\u001b[1;31mTypeError\u001b[0m: download() missing 3 required positional arguments: 'package_name', 'release', and 'basename'"
     ]
    }
   ],
   "source": [
    "pkg = anaconda_packages[0]\n",
    "login = pkg['owner']\n",
    "package_name = pkg['name']\n",
    "release = pkg['versions'][-1]\n",
    "basename = 'linux_64/{}'.format()\n",
    "public.download(anaconda_packages[0]['owner'],\n",
    "                anaconda_packages[0]['name'],\n",
    "                anaconda_packages[0]['versions'][0])"
   ]
  }
 ],
 "metadata": {
  "kernelspec": {
   "display_name": "Python 3",
   "language": "python",
   "name": "python3"
  },
  "language_info": {
   "codemirror_mode": {
    "name": "ipython",
    "version": 3
   },
   "file_extension": ".py",
   "mimetype": "text/x-python",
   "name": "python",
   "nbconvert_exporter": "python",
   "pygments_lexer": "ipython3",
   "version": "3.5.1"
  },
  "widgets": {
   "state": {},
   "version": "1.1.2"
  }
 },
 "nbformat": 4,
 "nbformat_minor": 0
}
