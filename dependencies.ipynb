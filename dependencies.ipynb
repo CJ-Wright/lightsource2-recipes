{
 "cells": [
  {
   "cell_type": "code",
   "execution_count": 11,
   "metadata": {
    "collapsed": false
   },
   "outputs": [],
   "source": [
    "import os\n",
    "import yaml\n",
    "import fnmatch\n",
    "from conda_build.metadata import MetaData\n",
    "from pprint import pprint\n",
    "import binstar_client\n",
    "import matplotlib.pyplot as plt\n",
    "import copy\n",
    "%matplotlib inline\n",
    "import networkx as nx"
   ]
  },
  {
   "cell_type": "code",
   "execution_count": 12,
   "metadata": {
    "collapsed": false
   },
   "outputs": [
    {
     "name": "stderr",
     "output_type": "stream",
     "text": [
      "Using Anaconda Cloud api site https://api.anaconda.org\n"
     ]
    }
   ],
   "source": [
    "cli = binstar_client.utils.get_server_api()\n",
    "packages_on_conda_forge = set([f['full_name'].split('/')[1] for f in cli.show_channel('main', 'conda-forge')['files']])"
   ]
  },
  {
   "cell_type": "code",
   "execution_count": 13,
   "metadata": {
    "collapsed": true
   },
   "outputs": [],
   "source": [
    "def sanitize_names(list_of_names):\n",
    "    list_of_names = [name.split(' ')[0] for name in list_of_names]\n",
    "    list_of_names = [name for name in list_of_names]# if name not in packages_on_conda_forge]\n",
    "    return list_of_names"
   ]
  },
  {
   "cell_type": "code",
   "execution_count": 14,
   "metadata": {
    "collapsed": true
   },
   "outputs": [],
   "source": [
    "packages = [\n",
    "    'event-model',\n",
    "    'lmfit',\n",
    "    'emcee',\n",
    "    'doct',\n",
    "    'boltons',\n",
    "]"
   ]
  },
  {
   "cell_type": "code",
   "execution_count": 15,
   "metadata": {
    "collapsed": false
   },
   "outputs": [],
   "source": [
    "# Get the list of folders to check\n",
    "# get the tagged stack\n",
    "path = os.path.join(os.path.expanduser(\"~\"), 'dev', 'conda', 'auto-build-tagged-recipes')\n",
    "folders = [os.path.join(path, folder) for folder in ['enaml-stack', \n",
    "                                                     'nonpy', \n",
    "                                                     'py2', \n",
    "                                                     'py3', \n",
    "                                                     'pyall', \n",
    "                                                     os.path.join('sort-of-dev-but-actually-tag', 'py3')]]\n",
    "# get the scikit-beam stack\n",
    "folders.append(os.path.join(os.path.expanduser('~'), 'dev', 'conda', 'skbeam-recipes', 'recipes'))"
   ]
  },
  {
   "cell_type": "code",
   "execution_count": 16,
   "metadata": {
    "collapsed": false
   },
   "outputs": [],
   "source": [
    "run = {}\n",
    "build = {}\n",
    "for path_to_recipes in folders:\n",
    "    for entry in os.listdir(path_to_recipes):\n",
    "        if '.yaml' in entry:\n",
    "            # this is a filename\n",
    "            continue\n",
    "        full_path = os.path.join(path_to_recipes, entry)\n",
    "        meta = MetaData(full_path)\n",
    "        name = meta.meta['package']['name']\n",
    "    #         if name in packages_on_conda_forge:\n",
    "    #             continue\n",
    "        build[name] = sanitize_names(meta.meta.get('requirements', {}).get('build', []))\n",
    "        run[name] = sanitize_names(meta.meta.get('requirements', {}).get('run', []))"
   ]
  },
  {
   "cell_type": "code",
   "execution_count": 17,
   "metadata": {
    "collapsed": true
   },
   "outputs": [],
   "source": [
    "union = copy.deepcopy(build)\n",
    "for package, deps in run.items():\n",
    "    union[package] = set(build.get(package) + run.get(package))"
   ]
  },
  {
   "cell_type": "code",
   "execution_count": 18,
   "metadata": {
    "collapsed": true
   },
   "outputs": [],
   "source": [
    "# drop all extra packages that I do not have conda recipes for\n",
    "for name, items in union.items():\n",
    "    union[name] = [item for item in items if item in union]"
   ]
  },
  {
   "cell_type": "code",
   "execution_count": 19,
   "metadata": {
    "collapsed": false
   },
   "outputs": [],
   "source": [
    "kw = dict(node_size=5, node_color='w', edge_color='b', alpha=0.25)\n",
    "\n",
    "def make_network(packages_dict):\n",
    "    G = nx.DiGraph()\n",
    "    for package, deps in packages_dict.items():\n",
    "#         print(package)\n",
    "        for dep in deps:\n",
    "#             print('\\t{}'.format(dep))\n",
    "            G.add_edge(package, dep)\n",
    "    return G"
   ]
  },
  {
   "cell_type": "code",
   "execution_count": 20,
   "metadata": {
    "collapsed": false
   },
   "outputs": [],
   "source": [
    "run_G = make_network(run)\n",
    "build_G = make_network(build)\n",
    "all_G = make_network(union)"
   ]
  },
  {
   "cell_type": "code",
   "execution_count": 21,
   "metadata": {
    "collapsed": true
   },
   "outputs": [],
   "source": [
    "it = iter(all_G)"
   ]
  },
  {
   "cell_type": "code",
   "execution_count": 22,
   "metadata": {
    "collapsed": false
   },
   "outputs": [],
   "source": [
    "ret = next(it)"
   ]
  },
  {
   "cell_type": "code",
   "execution_count": 26,
   "metadata": {
    "collapsed": false
   },
   "outputs": [
    {
     "data": {
      "text/plain": [
       "<networkx.classes.digraph.DiGraph at 0x7ff9429bc9b0>"
      ]
     },
     "execution_count": 26,
     "metadata": {},
     "output_type": "execute_result"
    }
   ],
   "source": [
    "G = all_G.copy()\n",
    "G.reverse()"
   ]
  },
  {
   "cell_type": "code",
   "execution_count": 27,
   "metadata": {
    "collapsed": false
   },
   "outputs": [
    {
     "data": {
      "text/plain": [
       "[('bluesky', 'tifffile'),\n",
       " ('bluesky', 'historydict'),\n",
       " ('bluesky', 'xray-vision'),\n",
       " ('bluesky', 'filestore'),\n",
       " ('bluesky', 'event-model'),\n",
       " ('bluesky', 'metadatastore'),\n",
       " ('bluesky', 'databroker'),\n",
       " ('bluesky', 'boltons'),\n",
       " ('bluesky', 'super_state_machine'),\n",
       " ('bluesky', 'doct'),\n",
       " ('pims', 'slicerator'),\n",
       " ('epics-base', 'readline'),\n",
       " ('git', 'gettext'),\n",
       " ('scikit-beam', 'lmfit'),\n",
       " ('gobject-introspection', 'cairo-gobject'),\n",
       " ('gobject-introspection', 'glib'),\n",
       " ('x264', 'yasm'),\n",
       " ('h5py', 'hdf5'),\n",
       " ('pyepics', 'epics-base'),\n",
       " ('eiger-io', 'h5py'),\n",
       " ('eiger-io', 'pims'),\n",
       " ('eiger-io', 'filestore'),\n",
       " ('enaml', 'atom'),\n",
       " ('enaml', 'kiwisolver'),\n",
       " ('datamuxer', 'tzlocal'),\n",
       " ('clint', 'args'),\n",
       " ('autoconf', 'm4'),\n",
       " ('glib', 'gettext'),\n",
       " ('pygobject3', 'cairo-gobject'),\n",
       " ('pygobject3', 'gobject-introspection'),\n",
       " ('pygobject3', 'py3cairo'),\n",
       " ('pygobject3', 'glib'),\n",
       " ('py3cairo', 'cairo-gobject'),\n",
       " ('py3cairo', 'pkg-config'),\n",
       " ('ffmpeg', 'yasm'),\n",
       " ('ffmpeg', 'x264'),\n",
       " ('pcaspy', 'epics-base'),\n",
       " ('csxtools', 'tzlocal'),\n",
       " ('csxtools', 'databroker'),\n",
       " ('csxtools', 'pims'),\n",
       " ('pyxrf', 'enaml'),\n",
       " ('pyxrf', 'scikit-beam'),\n",
       " ('pyxrf', 'h5py'),\n",
       " ('analysis', 'bluesky'),\n",
       " ('analysis', 'xray-vision'),\n",
       " ('analysis', 'pymongo'),\n",
       " ('analysis', 'album'),\n",
       " ('analysis', 'databroker'),\n",
       " ('analysis', 'datamuxer'),\n",
       " ('analysis', 'lmfit'),\n",
       " ('analysis', 'scikit-beam'),\n",
       " ('analysis', 'channelarchiver'),\n",
       " ('ixstools', 'lmfit'),\n",
       " ('libtool', 'automake'),\n",
       " ('libtool', 'autoconf'),\n",
       " ('suitcase', 'databroker'),\n",
       " ('suitcase', 'h5py'),\n",
       " ('ophyd', 'pyepics'),\n",
       " ('ophyd', 'filestore'),\n",
       " ('trackpy', 'pims'),\n",
       " ('chxtools', 'fabio'),\n",
       " ('chxtools', 'h5py'),\n",
       " ('chxtools', 'pims'),\n",
       " ('chxtools', 'hdf5-lz4'),\n",
       " ('pkg-config', 'automake'),\n",
       " ('pkg-config', 'autoconf'),\n",
       " ('pkg-config', 'libtool'),\n",
       " ('filestore', 'tifffile'),\n",
       " ('filestore', 'pims'),\n",
       " ('filestore', 'doct'),\n",
       " ('filestore', 'pymongo'),\n",
       " ('filestore', 'h5py'),\n",
       " ('filestore', 'boltons'),\n",
       " ('hdf5-lz4', 'hdf5'),\n",
       " ('automake', 'autoconf'),\n",
       " ('automake', 'm4'),\n",
       " ('collection', 'bluesky'),\n",
       " ('collection', 'analysis'),\n",
       " ('collection', 'ophyd'),\n",
       " ('collection', 'pyolog'),\n",
       " ('cairo-gobject', 'pkg-config'),\n",
       " ('cairo-gobject', 'glib'),\n",
       " ('readline', 'ncurses'),\n",
       " ('album', 'databroker'),\n",
       " ('hkl', 'gobject-introspection'),\n",
       " ('hkl', 'pkg-config'),\n",
       " ('hkl', 'autoconf'),\n",
       " ('hkl', 'pygobject3'),\n",
       " ('hkl', 'gsl'),\n",
       " ('hkl', 'automake'),\n",
       " ('hkl', 'm4'),\n",
       " ('hkl', 'libtool'),\n",
       " ('metadatastore', 'boltons'),\n",
       " ('metadatastore', 'doct'),\n",
       " ('metadatastore', 'pymongo'),\n",
       " ('databroker', 'pims'),\n",
       " ('databroker', 'doct'),\n",
       " ('databroker', 'tzlocal'),\n",
       " ('databroker', 'metadatastore'),\n",
       " ('databroker', 'boltons'),\n",
       " ('databroker', 'channelarchiver'),\n",
       " ('databroker', 'filestore'),\n",
       " ('amostra', 'doct'),\n",
       " ('amostra', 'mongoquery'),\n",
       " ('amostra', 'pymongo'),\n",
       " ('channelarchiver', 'tzlocal')]"
      ]
     },
     "execution_count": 27,
     "metadata": {},
     "output_type": "execute_result"
    }
   ],
   "source": [
    "G.edges()"
   ]
  },
  {
   "cell_type": "code",
   "execution_count": 29,
   "metadata": {
    "collapsed": false,
    "scrolled": false
   },
   "outputs": [
    {
     "name": "stdout",
     "output_type": "stream",
     "text": [
      "Packges in all CAPS are packages that still need to be built\n",
      "['tifffile',\n",
      " 'pyolog',\n",
      " 'lmfit',\n",
      " 'gsl',\n",
      " 'kiwisolver',\n",
      " 'xray-vision',\n",
      " 'doct',\n",
      " 'tzlocal',\n",
      " 'historydict',\n",
      " 'mongoquery',\n",
      " 'pymongo',\n",
      " 'event-model',\n",
      " 'ncurses',\n",
      " 'gettext',\n",
      " 'yasm',\n",
      " 'boltons',\n",
      " 'super_state_machine',\n",
      " 'atom',\n",
      " 'fabio',\n",
      " 'args',\n",
      " 'hdf5',\n",
      " 'm4',\n",
      " 'slicerator']\n",
      "['pims',\n",
      " 'git',\n",
      " 'scikit-beam',\n",
      " 'x264',\n",
      " 'h5py',\n",
      " 'enaml',\n",
      " 'datamuxer',\n",
      " 'clint',\n",
      " 'autoconf',\n",
      " 'glib',\n",
      " 'ixstools',\n",
      " 'hdf5-lz4',\n",
      " 'readline',\n",
      " 'metadatastore',\n",
      " 'amostra',\n",
      " 'channelarchiver']\n",
      "['epics-base',\n",
      " 'ffmpeg',\n",
      " 'pyxrf',\n",
      " 'trackpy',\n",
      " 'chxtools',\n",
      " 'filestore',\n",
      " 'automake']\n",
      "['pyepics', 'eiger-io', 'pcaspy', 'libtool', 'databroker']\n",
      "['bluesky', 'csxtools', 'suitcase', 'ophyd', 'pkg-config', 'album']\n",
      "['analysis', 'cairo-gobject']\n",
      "['gobject-introspection', 'py3cairo', 'collection']\n",
      "['pygobject3']\n",
      "['hkl']\n"
     ]
    }
   ],
   "source": [
    "def print_and_trim(graph):\n",
    "    nodes = [x for x in (G) if G.out_degree(x) == 0]\n",
    "    for node in nodes:\n",
    "        G.remove_node(node)\n",
    "#     for idx, node in enumerate(nodes):\n",
    "#         if node not in packages_on_conda_forge:\n",
    "#             nodes[idx] = node.upper()\n",
    "    pprint(nodes)\n",
    "\n",
    "print(\"Packges in all CAPS are packages that still need to be built\")\n",
    "count = 0\n",
    "while G.nodes():\n",
    "    print_and_trim(G)\n",
    "    count += 1\n",
    "    if count > 50:\n",
    "        break"
   ]
  },
  {
   "cell_type": "code",
   "execution_count": 46,
   "metadata": {
    "collapsed": false
   },
   "outputs": [
    {
     "data": {
      "text/plain": [
       "[]"
      ]
     },
     "execution_count": 46,
     "metadata": {},
     "output_type": "execute_result"
    }
   ],
   "source": [
    "G.nodes()"
   ]
  },
  {
   "cell_type": "code",
   "execution_count": 102,
   "metadata": {
    "collapsed": false
   },
   "outputs": [
    {
     "data": {
      "text/plain": [
       "[]"
      ]
     },
     "execution_count": 102,
     "metadata": {},
     "output_type": "execute_result"
    }
   ],
   "source": [
    "G.edges()"
   ]
  },
  {
   "cell_type": "code",
   "execution_count": 53,
   "metadata": {
    "collapsed": false
   },
   "outputs": [
    {
     "data": {
      "text/plain": [
       "['chxtools',\n",
       " 'pcaspy',\n",
       " 'hkl',\n",
       " 'clint',\n",
       " 'eiger-io',\n",
       " 'ixstools',\n",
       " 'pyxrf',\n",
       " 'trackpy',\n",
       " 'ffmpeg',\n",
       " 'suitcase',\n",
       " 'service_identity',\n",
       " 'collection',\n",
       " 'git',\n",
       " 'csxtools']"
      ]
     },
     "execution_count": 53,
     "metadata": {},
     "output_type": "execute_result"
    }
   ],
   "source": [
    "rev = all_G.reverse()\n",
    "[x for x in rev if rev.out_degree(x) == 0]"
   ]
  },
  {
   "cell_type": "code",
   "execution_count": 33,
   "metadata": {
    "collapsed": false
   },
   "outputs": [
    {
     "data": {
      "image/png": "[encoded data removed]",
      "text/plain": [
       "<matplotlib.figure.Figure at 0x7f82a2613f28>"
      ]
     },
     "metadata": {},
     "output_type": "display_data"
    }
   ],
   "source": [
    "plt.figure()\n",
    "pos = nx.spring_layout(all_G, k=.2, iterations=200)\n",
    "nx.draw(all_G, pos, with_labels=True)"
   ]
  },
  {
   "cell_type": "code",
   "execution_count": 19,
   "metadata": {
    "collapsed": false
   },
   "outputs": [],
   "source": [
    "def trim_nodes(G, d):\n",
    "    \"\"\"Returns a copy of G without the nodes with a degree less than d.\n",
    "    http://glowingpython.blogspot.com/2012/11/first-steps-with-networx.html\n",
    "    \"\"\"\n",
    "    Gt = G.copy()\n",
    "    dn = nx.degree(Gt)\n",
    "    for n in Gt.nodes():\n",
    "        if dn[n] <= d:\n",
    "            Gt.remove_node(n)\n",
    "    return Gt\n",
    "\n",
    "def plot_deps(G, node, function):\n",
    "    h = nx.from_dict_of_lists({node: getattr(G, function)(node)})\n",
    "    nx.draw(h, with_labels=True, **kw)\n"
   ]
  },
  {
   "cell_type": "code",
   "execution_count": 36,
   "metadata": {
    "collapsed": false
   },
   "outputs": [
    {
     "data": {
      "image/png": "[encoded data removed]",
      "text/plain": [
       "<matplotlib.figure.Figure at 0x7f37ed9d5c50>"
      ]
     },
     "metadata": {},
     "output_type": "display_data"
    }
   ],
   "source": [
    "plot_deps(all_G, 'boltons', 'neighbors')"
   ]
  },
  {
   "cell_type": "code",
   "execution_count": 37,
   "metadata": {
    "collapsed": true
   },
   "outputs": [],
   "source": [
    "nx.path_graph?"
   ]
  },
  {
   "cell_type": "code",
   "execution_count": 38,
   "metadata": {
    "collapsed": true
   },
   "outputs": [],
   "source": [
    "nx.path_graph?"
   ]
  },
  {
   "cell_type": "code",
   "execution_count": 39,
   "metadata": {
    "collapsed": false
   },
   "outputs": [
    {
     "data": {
      "text/plain": [
       "[{'ncurses'},\n",
       " {'readline'},\n",
       " {'epics-base'},\n",
       " {'pcaspy'},\n",
       " {'xray-vision'},\n",
       " {'pyepics'},\n",
       " {'hdf5'},\n",
       " {'slicerator'},\n",
       " {'pims'},\n",
       " {'atom'},\n",
       " {'boltons'},\n",
       " {'doct'},\n",
       " {'pymongo'},\n",
       " {'metadatastore'},\n",
       " {'tifffile'},\n",
       " {'h5py'},\n",
       " {'filestore'},\n",
       " {'tzlocal'},\n",
       " {'channelarchiver'},\n",
       " {'databroker'},\n",
       " {'csxtools'},\n",
       " {'gettext'},\n",
       " {'glib'},\n",
       " {'m4'},\n",
       " {'autoconf'},\n",
       " {'automake'},\n",
       " {'libtool'},\n",
       " {'pkg-config'},\n",
       " {'cairo-gobject'},\n",
       " {'py3cairo'},\n",
       " {'gobject-introspection'},\n",
       " {'pygobject3'},\n",
       " {'prettytable'},\n",
       " {'ophyd'},\n",
       " {'eiger-io'},\n",
       " {'fabio'},\n",
       " {'hdf5-lz4'},\n",
       " {'hgtools'},\n",
       " {'keyring'},\n",
       " {'yasm'},\n",
       " {'x264'},\n",
       " {'ffmpeg'},\n",
       " {'event-model'},\n",
       " {'trackpy'},\n",
       " {'kiwisolver'},\n",
       " {'enaml'},\n",
       " {'pyxrf'},\n",
       " {'historydict'},\n",
       " {'super_state_machine'},\n",
       " {'bluesky'},\n",
       " {'args'},\n",
       " {'characteristic'},\n",
       " {'gsl'},\n",
       " {'hkl'},\n",
       " {'album'},\n",
       " {'suitcase'},\n",
       " {'chxtools'},\n",
       " {'git'},\n",
       " {'pyasn1-modules'},\n",
       " {'service_identity'},\n",
       " {'pyolog'},\n",
       " {'lmfit'},\n",
       " {'datamuxer'},\n",
       " {'analysis'},\n",
       " {'collection'},\n",
       " {'clint'},\n",
       " {'ixstools'}]"
      ]
     },
     "execution_count": 39,
     "metadata": {},
     "output_type": "execute_result"
    }
   ],
   "source": [
    "list(nx.strongly_connected_components(all_G))"
   ]
  },
  {
   "cell_type": "code",
   "execution_count": 40,
   "metadata": {
    "collapsed": false
   },
   "outputs": [
    {
     "data": {
      "text/plain": [
       "{'affine',\n",
       " 'amqp',\n",
       " 'antispoofing.utils',\n",
       " 'antlr',\n",
       " 'anyjson',\n",
       " 'appdirs',\n",
       " 'apptools',\n",
       " 'arm_pyart',\n",
       " 'arrow',\n",
       " 'artview',\n",
       " 'auditwheel',\n",
       " 'autoconf',\n",
       " 'automake',\n",
       " 'awesome-slugify',\n",
       " 'babel',\n",
       " 'backports.shutil_get_terminal_size',\n",
       " 'basemap',\n",
       " 'basemap-data-hires',\n",
       " 'bdw-gc',\n",
       " 'betamax',\n",
       " 'betamax-matchers',\n",
       " 'biggus',\n",
       " 'billiard',\n",
       " 'binaryornot',\n",
       " 'binutils',\n",
       " 'bison',\n",
       " 'blinker',\n",
       " 'bob',\n",
       " 'bob.ap',\n",
       " 'bob.bio.base',\n",
       " 'bob.bio.gmm',\n",
       " 'bob.bio.spear',\n",
       " 'bob.blitz',\n",
       " 'bob.core',\n",
       " 'bob.db.arface',\n",
       " 'bob.db.atnt',\n",
       " 'bob.db.atvskeystroke',\n",
       " 'bob.db.avspoof',\n",
       " 'bob.db.banca',\n",
       " 'bob.db.base',\n",
       " 'bob.db.biosecure',\n",
       " 'bob.db.biosecurid.face',\n",
       " 'bob.db.casia_fasd',\n",
       " 'bob.db.casme2',\n",
       " 'bob.db.caspeal',\n",
       " 'bob.db.frgc',\n",
       " 'bob.db.gbu',\n",
       " 'bob.db.iris',\n",
       " 'bob.db.kboc16',\n",
       " 'bob.db.lfw',\n",
       " 'bob.db.livdet2013',\n",
       " 'bob.db.mnist',\n",
       " 'bob.db.mobio',\n",
       " 'bob.db.msu_mfsd_mod',\n",
       " 'bob.db.multipie',\n",
       " 'bob.db.nist_sre12',\n",
       " 'bob.db.replay',\n",
       " 'bob.db.scface',\n",
       " 'bob.db.utfvp',\n",
       " 'bob.db.verification.filelist',\n",
       " 'bob.db.verification.utils',\n",
       " 'bob.db.voxforge',\n",
       " 'bob.db.wine',\n",
       " 'bob.db.xm2vts',\n",
       " 'bob.db.youtube',\n",
       " 'bob.extension',\n",
       " 'bob.io.audio',\n",
       " 'bob.io.base',\n",
       " 'bob.io.image',\n",
       " 'bob.io.matlab',\n",
       " 'bob.io.video',\n",
       " 'bob.ip.base',\n",
       " 'bob.ip.color',\n",
       " 'bob.ip.draw',\n",
       " 'bob.ip.facedetect',\n",
       " 'bob.ip.gabor',\n",
       " 'bob.ip.optflow.hornschunck',\n",
       " 'bob.ip.optflow.liu',\n",
       " 'bob.learn.activation',\n",
       " 'bob.learn.boosting',\n",
       " 'bob.learn.em',\n",
       " 'bob.learn.libsvm',\n",
       " 'bob.learn.linear',\n",
       " 'bob.learn.mlp',\n",
       " 'bob.math',\n",
       " 'bob.measure',\n",
       " 'bob.sp',\n",
       " 'boost',\n",
       " 'bottleneck',\n",
       " 'bqplot',\n",
       " 'c99-to-c89',\n",
       " 'ca-certificates',\n",
       " 'caffe',\n",
       " 'cairo',\n",
       " 'capnproto',\n",
       " 'cartopy',\n",
       " 'cc-plugin-glider',\n",
       " 'cdat-lite',\n",
       " 'cdo',\n",
       " 'celery',\n",
       " 'cell_tree2d',\n",
       " 'certifi',\n",
       " 'cf_units',\n",
       " 'cfchecker',\n",
       " 'check',\n",
       " 'cis',\n",
       " 'ciso',\n",
       " 'ckanapi',\n",
       " 'click-plugins',\n",
       " 'cloog',\n",
       " 'cloud_sptheme',\n",
       " 'cloudpickle',\n",
       " 'cmake',\n",
       " 'cmt',\n",
       " 'codar2netcdf',\n",
       " 'coincbc',\n",
       " 'colorama',\n",
       " 'colorlog',\n",
       " 'compliance-checker',\n",
       " 'conda-build-all',\n",
       " 'conda-execute',\n",
       " 'conda-forge-build-setup',\n",
       " 'conda-smithy',\n",
       " 'conda-testenv',\n",
       " 'configparser',\n",
       " 'configurable-http-proxy',\n",
       " 'contextlib2',\n",
       " 'cookiecutter',\n",
       " 'csa',\n",
       " 'ctd',\n",
       " 'cunit',\n",
       " 'cycler',\n",
       " 'cyordereddict',\n",
       " 'cython',\n",
       " 'dask',\n",
       " 'dateutils',\n",
       " 'descartes',\n",
       " 'dipy',\n",
       " 'distributed',\n",
       " 'dj-static',\n",
       " 'django',\n",
       " 'django-autoslug',\n",
       " 'django-celery',\n",
       " 'django-debug-toolbar',\n",
       " 'django-extensions',\n",
       " 'django-grappelli',\n",
       " 'django-nested-inline',\n",
       " 'django-redis-cache',\n",
       " 'django-taggit',\n",
       " 'django-typed-models',\n",
       " 'django_polymorphic',\n",
       " 'djangorestframework',\n",
       " 'docopt',\n",
       " 'docstring-coverage',\n",
       " 'doct',\n",
       " 'eccodes',\n",
       " 'ecmwf_grib',\n",
       " 'eigen',\n",
       " 'entrypoints',\n",
       " 'envisage',\n",
       " 'eofs',\n",
       " 'epic2cf',\n",
       " 'erlang',\n",
       " 'esmf',\n",
       " 'esmpy',\n",
       " 'expat',\n",
       " 'fasteners',\n",
       " 'feather-format',\n",
       " 'feedgenerator',\n",
       " 'ffmpeg',\n",
       " 'fftw',\n",
       " 'fiona',\n",
       " 'flann',\n",
       " 'flatbuffers',\n",
       " 'flex',\n",
       " 'flopy',\n",
       " 'flower',\n",
       " 'folium',\n",
       " 'fontconfig',\n",
       " 'fortran-magic',\n",
       " 'freeimage',\n",
       " 'freetype',\n",
       " 'freexl',\n",
       " 'freezegun',\n",
       " 'functools32',\n",
       " 'g2clib',\n",
       " 'gdal',\n",
       " 'genshi',\n",
       " 'geojson',\n",
       " 'geojsonio',\n",
       " 'geojsonio.py',\n",
       " 'geolinks',\n",
       " 'geopandas',\n",
       " 'geopy',\n",
       " 'geos',\n",
       " 'gettext',\n",
       " 'gflags',\n",
       " 'ghp-import',\n",
       " 'giflib',\n",
       " 'git',\n",
       " 'gitdb',\n",
       " 'github3.py',\n",
       " 'gitpython',\n",
       " 'glances',\n",
       " 'glib',\n",
       " 'glibmm',\n",
       " 'glog',\n",
       " 'glpk',\n",
       " 'glue-vispy-viewers',\n",
       " 'glueviz',\n",
       " 'glymur',\n",
       " 'gmp',\n",
       " 'gnureadline',\n",
       " 'google-apputils',\n",
       " 'gpxpy',\n",
       " 'gridfill',\n",
       " 'gridgen',\n",
       " 'gridgeo',\n",
       " 'gridutils',\n",
       " 'gsl',\n",
       " 'gsw',\n",
       " 'h5netcdf',\n",
       " 'h5py',\n",
       " 'haversine',\n",
       " 'hdf4',\n",
       " 'hdf5',\n",
       " 'hdfeos2',\n",
       " 'hdfeos5',\n",
       " 'helper',\n",
       " 'hiredis',\n",
       " 'httplib2',\n",
       " 'httpretty',\n",
       " 'ibis-framework',\n",
       " 'icu',\n",
       " 'impyla',\n",
       " 'invoke',\n",
       " 'ioos_qartod',\n",
       " 'ipykernel',\n",
       " 'ipyleaflet',\n",
       " 'ipyparallel',\n",
       " 'ipython',\n",
       " 'ipywidgets',\n",
       " 'iris',\n",
       " 'isl',\n",
       " 'isodate',\n",
       " 'jasper',\n",
       " 'jinja2',\n",
       " 'jinja2-time',\n",
       " 'jpeg',\n",
       " 'jplephem',\n",
       " 'jq',\n",
       " 'json-c',\n",
       " 'jsonschema',\n",
       " 'jupyter_client',\n",
       " 'jupyter_console',\n",
       " 'jupyter_core',\n",
       " 'jupyterhub',\n",
       " 'kealib',\n",
       " 'kombu',\n",
       " 'lapack',\n",
       " 'leveldb',\n",
       " 'libatomic_ops',\n",
       " 'libblitz',\n",
       " 'libffi',\n",
       " 'libiconv',\n",
       " 'libmatio',\n",
       " 'libmo_unpack',\n",
       " 'libpng',\n",
       " 'libsigcpp',\n",
       " 'libsodium',\n",
       " 'libspatialindex',\n",
       " 'libspatialite',\n",
       " 'libsvm',\n",
       " 'libtiff',\n",
       " 'libtool',\n",
       " 'libunistring',\n",
       " 'libuuid',\n",
       " 'libxml2',\n",
       " 'libxmlpp',\n",
       " 'livereload',\n",
       " 'lmdb',\n",
       " 'lua',\n",
       " 'luigi',\n",
       " 'm4',\n",
       " 'mahotas',\n",
       " 'markupsafe',\n",
       " 'matplotlib',\n",
       " 'megaman',\n",
       " 'metakernel',\n",
       " 'metpy',\n",
       " 'miktex',\n",
       " 'mingwpy',\n",
       " 'mistune',\n",
       " 'mkdocs',\n",
       " 'mkdocs-bootstrap',\n",
       " 'mkdocs-bootswatch',\n",
       " 'mo_pack',\n",
       " 'mock',\n",
       " 'modflow2netcdf',\n",
       " 'monotonic',\n",
       " 'mox',\n",
       " 'mpc',\n",
       " 'mpfr',\n",
       " 'mpir',\n",
       " 'mpl-probscale',\n",
       " 'mpld3',\n",
       " 'mplexporter',\n",
       " 'mplleaflet',\n",
       " 'mpmath',\n",
       " 'msinttypes',\n",
       " 'munch',\n",
       " 'nbconvert',\n",
       " 'nbformat',\n",
       " 'nco',\n",
       " 'ncurses',\n",
       " 'netcdf-cxx4',\n",
       " 'netcdf-fortran',\n",
       " 'netcdf4',\n",
       " 'nfft',\n",
       " 'nibabel',\n",
       " 'nilearn',\n",
       " 'ninja',\n",
       " 'nitime',\n",
       " 'nn',\n",
       " 'nodejs',\n",
       " 'nose',\n",
       " 'nose-timer',\n",
       " 'nose_parameterized',\n",
       " 'notebook',\n",
       " 'nuitka',\n",
       " 'obvious-ci',\n",
       " 'oceans',\n",
       " 'ocgis',\n",
       " 'oct2py',\n",
       " 'oniguruma',\n",
       " 'openblas',\n",
       " 'opencv',\n",
       " 'openjpeg',\n",
       " 'openssl',\n",
       " 'ordered-set',\n",
       " 'owslib',\n",
       " 'paegan',\n",
       " 'paegan-transport',\n",
       " 'palettable',\n",
       " 'pamela',\n",
       " 'pandas',\n",
       " 'pandoc',\n",
       " 'pastescript',\n",
       " 'patchelf',\n",
       " 'pcre',\n",
       " 'pelican',\n",
       " 'pep8-naming',\n",
       " 'perl',\n",
       " 'petulant-bear',\n",
       " 'pexpect',\n",
       " 'phreeqpy',\n",
       " 'pickleshare',\n",
       " 'pika',\n",
       " 'pillow',\n",
       " 'pint',\n",
       " 'pixman',\n",
       " 'pkg-config',\n",
       " 'poliastro',\n",
       " 'poyo',\n",
       " 'primesieve',\n",
       " 'proj.4',\n",
       " 'prompt_toolkit',\n",
       " 'protobuf',\n",
       " 'psutil',\n",
       " 'ptyprocess',\n",
       " 'pyamg',\n",
       " 'pyaxiom',\n",
       " 'pybind11',\n",
       " 'pycapnp',\n",
       " 'pycsw',\n",
       " 'pydap',\n",
       " 'pydicom',\n",
       " 'pyelftools',\n",
       " 'pyepsg',\n",
       " 'pyface',\n",
       " 'pyfftw',\n",
       " 'pyflann',\n",
       " 'pygc',\n",
       " 'pygdp',\n",
       " 'pygeogrids',\n",
       " 'pygeoif',\n",
       " 'pygithub',\n",
       " 'pygments',\n",
       " 'pygrib',\n",
       " 'pygridgen',\n",
       " 'pygridtools',\n",
       " 'pyhamcrest',\n",
       " 'pyhdf',\n",
       " 'pyhum',\n",
       " 'pyinotify',\n",
       " 'pykdtree',\n",
       " 'pyke',\n",
       " 'pykml',\n",
       " 'pymatbridge',\n",
       " 'pyncml',\n",
       " 'pynco',\n",
       " 'pynfft',\n",
       " 'pynio',\n",
       " 'pyomo',\n",
       " 'pyoos',\n",
       " 'pyopengl',\n",
       " 'pypandoc',\n",
       " 'pyproj',\n",
       " 'pyresample',\n",
       " 'pyscaffold',\n",
       " 'pyseidon',\n",
       " 'pysgrid',\n",
       " 'pyshp',\n",
       " 'pyspharm',\n",
       " 'pystache',\n",
       " 'pytest-benchmark',\n",
       " 'pytest-cov',\n",
       " 'pytest-django',\n",
       " 'pytest-mpl',\n",
       " 'pytest-runner',\n",
       " 'python-cdo',\n",
       " 'python-coveralls',\n",
       " 'python-dateutil',\n",
       " 'python-drmaa',\n",
       " 'python-ecmwf_grib',\n",
       " 'python-gflags',\n",
       " 'python-hdfs',\n",
       " 'python-leveldb',\n",
       " 'python-pathlib2',\n",
       " 'python-primesieve',\n",
       " 'python-ternary',\n",
       " 'pythreejs',\n",
       " 'pytz',\n",
       " 'pyugrid',\n",
       " 'pyutilib',\n",
       " 'pywavelets',\n",
       " 'pywebhdfs',\n",
       " 'pyzmq',\n",
       " 'qimage2ndarray',\n",
       " 'qrcode',\n",
       " 'qtconsole',\n",
       " 'quantities',\n",
       " 'qutip',\n",
       " 'rank_filter',\n",
       " 'rasterio',\n",
       " 'readline',\n",
       " 'regex',\n",
       " 'rejected',\n",
       " 'requests-toolbelt',\n",
       " 'rios',\n",
       " 'rtree',\n",
       " 'ruamel.ordereddict',\n",
       " 'ruamel.yaml',\n",
       " 'runipy',\n",
       " 's3fs',\n",
       " 'seawater',\n",
       " 'serpent',\n",
       " 'setproctitle',\n",
       " 'setuptools_scm',\n",
       " 'shapely',\n",
       " 'simplekml',\n",
       " 'siphon',\n",
       " 'six',\n",
       " 'smmap',\n",
       " 'snappy',\n",
       " 'snuggs',\n",
       " 'sox',\n",
       " 'splauncher',\n",
       " 'spyder',\n",
       " 'spyne',\n",
       " 'spyre',\n",
       " 'sqlite',\n",
       " 'ssl_match_hostname',\n",
       " 'static',\n",
       " 'suds-jurko',\n",
       " 'sunpy',\n",
       " 'supervisor',\n",
       " 'sympy',\n",
       " 'tabulate',\n",
       " 'tbb',\n",
       " 'tempita',\n",
       " 'tensorflow',\n",
       " 'termcolor',\n",
       " 'terminado',\n",
       " 'texinfo',\n",
       " 'thredds_crawler',\n",
       " 'thrift',\n",
       " 'thrift-cpp',\n",
       " 'thriftpy',\n",
       " 'tifffile',\n",
       " 'tk',\n",
       " 'toolchain',\n",
       " 'tornado',\n",
       " 'traitlets',\n",
       " 'traits',\n",
       " 'traitsui',\n",
       " 'trmm_rsl',\n",
       " 'tuiview',\n",
       " 'typing',\n",
       " 'udunits',\n",
       " 'udunits2',\n",
       " 'ulmo',\n",
       " 'uncertainties',\n",
       " 'uritemplate.py',\n",
       " 'urwid',\n",
       " 'utide',\n",
       " 'valideer',\n",
       " 'vc',\n",
       " 'vcrpy',\n",
       " 'vcversioner',\n",
       " 'vigra',\n",
       " 'vincent',\n",
       " 'vlfeat',\n",
       " 'wcsaxes',\n",
       " 'wcwidth',\n",
       " 'webcolors',\n",
       " 'wera2netcdf',\n",
       " 'whichcraft',\n",
       " 'wicken',\n",
       " 'widgetsnbextension',\n",
       " 'windrose',\n",
       " 'windspharm',\n",
       " 'wradlib',\n",
       " 'x264',\n",
       " 'xarray',\n",
       " 'xo',\n",
       " 'xonsh',\n",
       " 'xz',\n",
       " 'yaml2ncml',\n",
       " 'yasm',\n",
       " 'yt',\n",
       " 'zarr',\n",
       " 'zeromq',\n",
       " 'zlib'}"
      ]
     },
     "execution_count": 40,
     "metadata": {},
     "output_type": "execute_result"
    }
   ],
   "source": [
    "packages_on_conda_forge"
   ]
  },
  {
   "cell_type": "code",
   "execution_count": 41,
   "metadata": {
    "collapsed": false
   },
   "outputs": [
    {
     "name": "stdout",
     "output_type": "stream",
     "text": [
      "Build Order\n",
      "##: ncurses  # Package already on conda-forge\n",
      "##: readline  # Package already on conda-forge\n",
      " 1: epics-base\n",
      " 2: pcaspy\n",
      " 3: xray-vision\n",
      " 4: pyepics\n",
      "##: hdf5  # Package already on conda-forge\n",
      " 5: slicerator\n",
      " 6: pims\n",
      " 7: atom\n",
      " 8: tzlocal\n",
      " 9: channelarchiver\n",
      "##: doct  # Package already on conda-forge\n",
      "10: boltons\n",
      "11: pymongo\n",
      "##: h5py  # Package already on conda-forge\n",
      "##: tifffile  # Package already on conda-forge\n",
      "12: filestore\n",
      "13: metadatastore\n",
      "14: databroker\n",
      "15: csxtools\n",
      "##: m4  # Package already on conda-forge\n",
      "##: autoconf  # Package already on conda-forge\n",
      "##: automake  # Package already on conda-forge\n",
      "##: libtool  # Package already on conda-forge\n",
      "##: pkg-config  # Package already on conda-forge\n",
      "##: gettext  # Package already on conda-forge\n",
      "##: glib  # Package already on conda-forge\n",
      "16: cairo-gobject\n",
      "17: gobject-introspection\n",
      "18: py3cairo\n",
      "19: pygobject3\n",
      "20: prettytable\n",
      "21: ophyd\n",
      "22: eiger-io\n",
      "23: fabio\n",
      "24: hdf5-lz4\n",
      "25: hgtools\n",
      "26: keyring\n",
      "##: yasm  # Package already on conda-forge\n",
      "##: x264  # Package already on conda-forge\n",
      "##: ffmpeg  # Package already on conda-forge\n",
      "27: event-model\n",
      "28: trackpy\n",
      "29: kiwisolver\n",
      "30: enaml\n",
      "31: pyxrf\n",
      "32: super_state_machine\n",
      "33: historydict\n",
      "34: bluesky\n",
      "35: args\n",
      "36: characteristic\n",
      "##: gsl  # Package already on conda-forge\n",
      "37: hkl\n",
      "38: album\n",
      "39: suitcase\n",
      "40: chxtools\n",
      "##: git  # Package already on conda-forge\n",
      "41: pyasn1-modules\n",
      "42: service_identity\n",
      "43: datamuxer\n",
      "44: lmfit\n",
      "45: analysis\n",
      "46: pyolog\n",
      "47: collection\n",
      "48: clint\n",
      "49: ixstools\n"
     ]
    }
   ],
   "source": [
    "print(\"Build Order\")\n",
    "counter = 0\n",
    "for item in reversed(nx.topological_sort(all_G)):\n",
    "    if item not in packages_on_conda_forge:\n",
    "        counter += 1\n",
    "        print('{:>2}: {}'.format(counter, item))\n",
    "    else:\n",
    "        print('##: {}  # Package already on conda-forge'.format(item))"
   ]
  },
  {
   "cell_type": "code",
   "execution_count": 16,
   "metadata": {
    "collapsed": false
   },
   "outputs": [
    {
     "ename": "NameError",
     "evalue": "name 'order' is not defined",
     "output_type": "error",
     "traceback": [
      "\u001b[1;31m---------------------------------------------------------------------------\u001b[0m",
      "\u001b[1;31mNameError\u001b[0m                                 Traceback (most recent call last)",
      "\u001b[1;32m<ipython-input-16-eb11c146f7f5>\u001b[0m in \u001b[0;36m<module>\u001b[1;34m()\u001b[0m\n\u001b[0;32m      1\u001b[0m \u001b[1;32mimport\u001b[0m \u001b[0muuid\u001b[0m\u001b[1;33m\u001b[0m\u001b[0m\n\u001b[1;32m----> 2\u001b[1;33m \u001b[0mstart\u001b[0m \u001b[1;33m=\u001b[0m \u001b[0morder\u001b[0m\u001b[1;33m[\u001b[0m\u001b[1;36m0\u001b[0m\u001b[1;33m]\u001b[0m\u001b[1;33m\u001b[0m\u001b[0m\n\u001b[0m\u001b[0;32m      3\u001b[0m \u001b[0mnodes\u001b[0m \u001b[1;33m=\u001b[0m \u001b[1;33m[\u001b[0m\u001b[0morder\u001b[0m\u001b[1;33m[\u001b[0m\u001b[1;36m0\u001b[0m\u001b[1;33m]\u001b[0m\u001b[1;33m]\u001b[0m \u001b[1;31m# start with first node in topological order\u001b[0m\u001b[1;33m\u001b[0m\u001b[0m\n\u001b[0;32m      4\u001b[0m \u001b[0mlabels\u001b[0m \u001b[1;33m=\u001b[0m \u001b[1;33m{\u001b[0m\u001b[1;33m}\u001b[0m\u001b[1;33m\u001b[0m\u001b[0m\n\u001b[0;32m      5\u001b[0m \u001b[0mprint\u001b[0m\u001b[1;33m(\u001b[0m\u001b[1;34m\"edges\"\u001b[0m\u001b[1;33m)\u001b[0m\u001b[1;33m\u001b[0m\u001b[0m\n",
      "\u001b[1;31mNameError\u001b[0m: name 'order' is not defined"
     ]
    }
   ],
   "source": [
    "import uuid\n",
    "start = order[0]\n",
    "nodes = [order[0]] # start with first node in topological order\n",
    "labels = {}\n",
    "print(\"edges\")\n",
    "tree = nx.Graph()\n",
    "idx = 0\n",
    "while nodes:\n",
    "    idx += 1\n",
    "    source = nodes.pop()\n",
    "    labels[source] = str(idx) + '-' + source\n",
    "    for target in all_G.neighbors(source):\n",
    "        if target in tree:\n",
    "            t = uuid.uuid1() # new unique id\n",
    "        else:\n",
    "            t = target\n",
    "        labels[t] = target\n",
    "        tree.add_edge(source,t)\n",
    "        print(source,target,source,t)\n",
    "        nodes.append(target)"
   ]
  },
  {
   "cell_type": "code",
   "execution_count": 17,
   "metadata": {
    "collapsed": false
   },
   "outputs": [
    {
     "ename": "NameError",
     "evalue": "name 'tree' is not defined",
     "output_type": "error",
     "traceback": [
      "\u001b[1;31m---------------------------------------------------------------------------\u001b[0m",
      "\u001b[1;31mNameError\u001b[0m                                 Traceback (most recent call last)",
      "\u001b[1;32m<ipython-input-17-479f8a58ffb4>\u001b[0m in \u001b[0;36m<module>\u001b[1;34m()\u001b[0m\n\u001b[0;32m      1\u001b[0m \u001b[0mget_ipython\u001b[0m\u001b[1;33m(\u001b[0m\u001b[1;33m)\u001b[0m\u001b[1;33m.\u001b[0m\u001b[0mmagic\u001b[0m\u001b[1;33m(\u001b[0m\u001b[1;34m'matplotlib inline'\u001b[0m\u001b[1;33m)\u001b[0m\u001b[1;33m\u001b[0m\u001b[0m\n\u001b[0;32m      2\u001b[0m \u001b[0mplt\u001b[0m\u001b[1;33m.\u001b[0m\u001b[0mfigure\u001b[0m\u001b[1;33m(\u001b[0m\u001b[1;33m)\u001b[0m\u001b[1;33m\u001b[0m\u001b[0m\n\u001b[1;32m----> 3\u001b[1;33m \u001b[0mnx\u001b[0m\u001b[1;33m.\u001b[0m\u001b[0mdraw\u001b[0m\u001b[1;33m(\u001b[0m\u001b[0mtree\u001b[0m\u001b[1;33m,\u001b[0m \u001b[0mlabels\u001b[0m\u001b[1;33m=\u001b[0m\u001b[0mlabels\u001b[0m\u001b[1;33m)\u001b[0m\u001b[1;33m\u001b[0m\u001b[0m\n\u001b[0m",
      "\u001b[1;31mNameError\u001b[0m: name 'tree' is not defined"
     ]
    },
    {
     "data": {
      "text/plain": [
       "<matplotlib.figure.Figure at 0x7f37eda51ba8>"
      ]
     },
     "metadata": {},
     "output_type": "display_data"
    }
   ],
   "source": [
    "%matplotlib inline\n",
    "plt.figure()\n",
    "nx.draw(tree, labels=labels)\n"
   ]
  },
  {
   "cell_type": "code",
   "execution_count": 80,
   "metadata": {
    "collapsed": false
   },
   "outputs": [
    {
     "data": {
      "text/plain": [
       "<networkx.classes.digraph.DiGraph at 0x7f8696e45e80>"
      ]
     },
     "execution_count": 80,
     "metadata": {},
     "output_type": "execute_result"
    },
    {
     "data": {
      "image/png": "[encoded data removed]",
      "text/plain": [
       "<matplotlib.figure.Figure at 0x7f8696e45a20>"
      ]
     },
     "metadata": {},
     "output_type": "display_data"
    }
   ],
   "source": [
    "plt.subplots()\n",
    "nx.traversal.bfs_tree(all_G, 'enaml')"
   ]
  },
  {
   "cell_type": "code",
   "execution_count": null,
   "metadata": {
    "collapsed": true
   },
   "outputs": [],
   "source": []
  }
 ],
 "metadata": {
  "kernelspec": {
   "display_name": "Python 3",
   "language": "python",
   "name": "python3"
  },
  "language_info": {
   "codemirror_mode": {
    "name": "ipython",
    "version": 3
   },
   "file_extension": ".py",
   "mimetype": "text/x-python",
   "name": "python",
   "nbconvert_exporter": "python",
   "pygments_lexer": "ipython3",
   "version": "3.5.1"
  },
  "widgets": {
   "state": {},
   "version": "1.1.2"
  }
 },
 "nbformat": 4,
 "nbformat_minor": 0
}
