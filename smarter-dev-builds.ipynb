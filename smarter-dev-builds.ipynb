{
 "cells": [
  {
   "cell_type": "code",
   "execution_count": 3,
   "metadata": {
    "collapsed": true
   },
   "outputs": [],
   "source": [
    "nsls2=False"
   ]
  },
  {
   "cell_type": "code",
   "execution_count": 46,
   "metadata": {
    "collapsed": false
   },
   "outputs": [
    {
     "name": "stderr",
     "output_type": "stream",
     "text": [
      "Using Anaconda Cloud api site https://api.anaconda.org\n"
     ]
    }
   ],
   "source": [
    "import binstar_client\n",
    "from binstar_client import Binstar\n",
    "from argparse import Namespace\n",
    "import os\n",
    "import subprocess\n",
    "from pprint import pprint\n",
    "if nsls2:\n",
    "    # Fill in your binstar token here\n",
    "    token = 'ed-a09a18b1-8bce-4582-b02b-d43c27db57bd'\n",
    "    username = 'nsls2-tag'\n",
    "    site = 'https://pergamon.cs.nsls2.local:8443/api'\n",
    "    os.environ['REQUESTS_CA_BUNDLE']='/etc/certificates/ca_cs_nsls2_local.crt'\n",
    "else:\n",
    "    token=None\n",
    "    username = 'lightsource2-dev'\n",
    "    site = None\n",
    "\n",
    "    \n",
    "\n",
    "cli = binstar_client.utils.get_binstar(Namespace(token=token, site=site))"
   ]
  },
  {
   "cell_type": "code",
   "execution_count": 68,
   "metadata": {
    "collapsed": true
   },
   "outputs": [],
   "source": [
    "def get_file_names_on_anaconda_channel(username, channel='main'):\n",
    "    return set([f['basename'] for f in cli.show_channel('main', username)['files']])"
   ]
  },
  {
   "cell_type": "code",
   "execution_count": 133,
   "metadata": {
    "collapsed": false
   },
   "outputs": [],
   "source": [
    "def determine_build_name(path_to_recipe, *conda_build_args):\n",
    "    if conda_build_args is None:\n",
    "        conda_build_args = []\n",
    "    cmd = ['conda', 'build', path_to_recipe, '--output']\n",
    "    cmd.extend(conda_build_args)\n",
    "    ret = subprocess.check_output(cmd, stderr=subprocess.STDOUT).decode().strip().split('\\n')\n",
    "    if len(ret) > 1:\n",
    "        # Then this is the first time we are getting the build name and conda\n",
    "        # has to check out the source. Call it a second time and you get the full\n",
    "        # path to the file that will be spit out by conda-build\n",
    "        return determine_build_name(path_to_recipe, *conda_build_args)\n",
    "    cmd.remove('--output')\n",
    "    return ret[0], cmd"
   ]
  },
  {
   "cell_type": "code",
   "execution_count": 134,
   "metadata": {
    "collapsed": false
   },
   "outputs": [
    {
     "name": "stdout",
     "output_type": "stream",
     "text": [
      "Determining package build names...\n",
      "/home/edill/mc/conda-bld/linux-64/album-0.0.2.post0-0_g6b05c00_py27.tar.bz2\n",
      "/home/edill/mc/conda-bld/linux-64/album-0.0.2.post0-0_g6b05c00_py34.tar.bz2\n",
      "/home/edill/mc/conda-bld/linux-64/album-0.0.2.post0-0_g6b05c00_py35.tar.bz2\n",
      "/home/edill/mc/conda-bld/linux-64/bluesky-0.4.0rc2.post23-23_gd9d1f42_py27.tar.bz2\n",
      "/home/edill/mc/conda-bld/linux-64/bluesky-0.4.0rc2.post23-23_gd9d1f42_py34.tar.bz2\n",
      "/home/edill/mc/conda-bld/linux-64/bluesky-0.4.0rc2.post23-23_gd9d1f42_py35.tar.bz2\n",
      "/home/edill/mc/conda-bld/linux-64/channelarchiver-0.0.5.6.post0-0_gfac126f_py27.tar.bz2\n",
      "/home/edill/mc/conda-bld/linux-64/channelarchiver-0.0.5.6.post0-0_gfac126f_py34.tar.bz2\n",
      "/home/edill/mc/conda-bld/linux-64/channelarchiver-0.0.5.6.post0-0_gfac126f_py35.tar.bz2\n",
      "/home/edill/mc/conda-bld/linux-64/conda-build-1.19.0.post30-30_g4e4808d_py27.tar.bz2\n",
      "/home/edill/mc/conda-bld/linux-64/conda-build-1.19.0.post30-30_g4e4808d_py34.tar.bz2\n",
      "/home/edill/mc/conda-bld/linux-64/conda-build-1.19.0.post30-30_g4e4808d_py35.tar.bz2\n",
      "/home/edill/mc/conda-bld/linux-64/databroker-0.3.1.post26-26_g20429e2_py27.tar.bz2\n",
      "/home/edill/mc/conda-bld/linux-64/databroker-0.3.1.post26-26_g20429e2_py34.tar.bz2\n",
      "/home/edill/mc/conda-bld/linux-64/databroker-0.3.1.post26-26_g20429e2_py35.tar.bz2\n",
      "/home/edill/mc/conda-bld/linux-64/datamuxer-0.3.0.post0-0_g35b9b71_py27.tar.bz2\n",
      "/home/edill/mc/conda-bld/linux-64/datamuxer-0.3.0.post0-0_g35b9b71_py34.tar.bz2\n",
      "/home/edill/mc/conda-bld/linux-64/datamuxer-0.3.0.post0-0_g35b9b71_py35.tar.bz2\n",
      "/home/edill/mc/conda-bld/linux-64/dataportal-0.2.3.post10-10_gaa25851_py27.tar.bz2\n",
      "/home/edill/mc/conda-bld/linux-64/dataportal-0.2.3.post10-10_gaa25851_py34.tar.bz2\n",
      "/home/edill/mc/conda-bld/linux-64/dataportal-0.2.3.post10-10_gaa25851_py35.tar.bz2\n",
      "/home/edill/mc/conda-bld/linux-64/doct-1.0.1.post7-7_gb811d2a_py27.tar.bz2\n",
      "/home/edill/mc/conda-bld/linux-64/doct-1.0.1.post7-7_gb811d2a_py34.tar.bz2\n",
      "/home/edill/mc/conda-bld/linux-64/doct-1.0.1.post7-7_gb811d2a_py35.tar.bz2\n",
      "/home/edill/mc/conda-bld/linux-64/eiger-io-0.0.4.post0-py27_0.tar.bz2\n",
      "/home/edill/mc/conda-bld/linux-64/eiger-io-0.0.4.post0-py34_0.tar.bz2\n",
      "/home/edill/mc/conda-bld/linux-64/eiger-io-0.0.4.post0-py35_0.tar.bz2\n",
      "/home/edill/mc/conda-bld/linux-64/filestore-0.2.2.post5-5_g3bc4a5f_py27.tar.bz2\n",
      "/home/edill/mc/conda-bld/linux-64/filestore-0.2.2.post5-5_g3bc4a5f_py34.tar.bz2\n",
      "/home/edill/mc/conda-bld/linux-64/filestore-0.2.2.post5-5_g3bc4a5f_py35.tar.bz2\n",
      "/home/edill/mc/conda-bld/linux-64/historydict-1.0.0.post24-24_g6193dc2_py27.tar.bz2\n",
      "/home/edill/mc/conda-bld/linux-64/historydict-1.0.0.post24-24_g6193dc2_py34.tar.bz2\n",
      "/home/edill/mc/conda-bld/linux-64/historydict-1.0.0.post24-24_g6193dc2_py35.tar.bz2\n",
      "/home/edill/mc/conda-bld/linux-64/metadatastore-0.3.0.post24-24_gd09fe7d_py27.tar.bz2\n",
      "/home/edill/mc/conda-bld/linux-64/metadatastore-0.3.0.post24-24_gd09fe7d_py34.tar.bz2\n",
      "/home/edill/mc/conda-bld/linux-64/metadatastore-0.3.0.post24-24_gd09fe7d_py35.tar.bz2\n",
      "/home/edill/mc/conda-bld/linux-64/ophyd-0.2.0rc2.post54-54_g35b395b_py27.tar.bz2\n",
      "/home/edill/mc/conda-bld/linux-64/ophyd-0.2.0rc2.post54-54_g35b395b_py34.tar.bz2\n",
      "/home/edill/mc/conda-bld/linux-64/ophyd-0.2.0rc2.post54-54_g35b395b_py35.tar.bz2\n",
      "/home/edill/mc/conda-bld/linux-64/pims-0.3.3.post0-0_g1bea480_py27.tar.bz2\n",
      "/home/edill/mc/conda-bld/linux-64/pims-0.3.3.post0-0_g1bea480_py34.tar.bz2\n",
      "/home/edill/mc/conda-bld/linux-64/pims-0.3.3.post0-0_g1bea480_py35.tar.bz2\n",
      "/home/edill/mc/conda-bld/linux-64/scikit-beam-0.0.7.post42-42_g5503a61_py27.tar.bz2\n",
      "/home/edill/mc/conda-bld/linux-64/scikit-beam-0.0.7.post42-42_g5503a61_py34.tar.bz2\n",
      "/home/edill/mc/conda-bld/linux-64/scikit-beam-0.0.7.post42-42_g5503a61_py35.tar.bz2\n",
      "/home/edill/mc/conda-bld/linux-64/slicerator-0.9.7.post0-0_g837e7d5_py27.tar.bz2\n",
      "/home/edill/mc/conda-bld/linux-64/slicerator-0.9.7.post0-0_g837e7d5_py34.tar.bz2\n",
      "/home/edill/mc/conda-bld/linux-64/slicerator-0.9.7.post0-0_g837e7d5_py35.tar.bz2\n",
      "/home/edill/mc/conda-bld/linux-64/suitcase-0.2.2.post0-0_g2f47ea7_py27.tar.bz2\n",
      "/home/edill/mc/conda-bld/linux-64/suitcase-0.2.2.post0-0_g2f47ea7_py34.tar.bz2\n",
      "/home/edill/mc/conda-bld/linux-64/suitcase-0.2.2.post0-0_g2f47ea7_py35.tar.bz2\n",
      "/home/edill/mc/conda-bld/linux-64/xray-vision-0.0.4.post7-7_ge6b680f_py27.tar.bz2\n",
      "/home/edill/mc/conda-bld/linux-64/xray-vision-0.0.4.post7-7_ge6b680f_py34.tar.bz2\n",
      "/home/edill/mc/conda-bld/linux-64/xray-vision-0.0.4.post7-7_ge6b680f_py35.tar.bz2\n"
     ]
    }
   ],
   "source": [
    "recipes_folder = '/home/edill/dev/conda/staged-recipes-dev/recipes'\n",
    "build_names = []\n",
    "print(\"Determining package build names...\")\n",
    "for folder in sorted(os.listdir(recipes_folder)):\n",
    "    for pyver in ['2.7', '3.4', '3.5']:\n",
    "        name, build_cmd = determine_build_name(os.path.join(recipes_folder, folder), '--python', pyver)\n",
    "        print(name)\n",
    "        build_names.append((os.sep.join(name.split(os.sep)[-2:]), build_cmd))"
   ]
  },
  {
   "cell_type": "code",
   "execution_count": 137,
   "metadata": {
    "collapsed": false
   },
   "outputs": [
    {
     "data": {
      "text/plain": [
       "{'linux-64/boltons-16.0.0.post12-12_ge853701_py27.tar.bz2',\n",
       " 'linux-64/boltons-16.0.0.post12-12_ge853701_py34.tar.bz2',\n",
       " 'linux-64/boltons-16.0.0.post12-12_ge853701_py35.tar.bz2',\n",
       " 'linux-64/boltons-16.0.0.post13-13_g11f3c15_py27.tar.bz2',\n",
       " 'linux-64/boltons-16.0.0.post13-13_g11f3c15_py34.tar.bz2',\n",
       " 'linux-64/boltons-16.0.0.post13-13_g11f3c15_py35.tar.bz2',\n",
       " 'linux-64/boltons-16.0.0.post4-4_gc394b86.tar.bz2',\n",
       " 'linux-64/boltons-16.0.0.post6-6_g968841a.tar.bz2',\n",
       " 'linux-64/boltons-16.0.0.post8-8_g6d186bf.tar.bz2',\n",
       " 'linux-64/boltons-16.0.0.post8-8_g6d186bf_py27.tar.bz2',\n",
       " 'linux-64/boltons-16.0.0.post8-8_g6d186bf_py34.tar.bz2',\n",
       " 'linux-64/boltons-16.0.0.post8-8_g6d186bf_py35.tar.bz2',\n",
       " 'linux-64/channelarchiver-0.0.5.post6-6_gfac126f_np19py27.tar.bz2',\n",
       " 'linux-64/channelarchiver-0.0.5.post6-6_gfac126f_np19py34.tar.bz2',\n",
       " 'linux-64/channelarchiver-0.0.5.post6-6_gfac126f_np19py35.tar.bz2',\n",
       " 'linux-64/channelarchiver-0.0.5.post6-6_gfac126f_npNonepy35.tar.bz2',\n",
       " 'linux-64/channelarchiver-0.0.5.post6-6_gfac126f_py27.tar.bz2',\n",
       " 'linux-64/channelarchiver-0.0.5.post6-6_gfac126f_py34.tar.bz2',\n",
       " 'linux-64/channelarchiver-0.0.5.post6-6_gfac126f_py35.tar.bz2',\n",
       " 'linux-64/conda-build-1.19.0.post11-11_g456b843_py27.tar.bz2',\n",
       " 'linux-64/conda-build-1.19.0.post11-11_g456b843_py34.tar.bz2',\n",
       " 'linux-64/conda-build-1.19.0.post11-11_g456b843_py35.tar.bz2',\n",
       " 'linux-64/conda-build-1.19.0.post13-13_g48c3b7a_py27.tar.bz2',\n",
       " 'linux-64/conda-build-1.19.0.post13-13_g48c3b7a_py34.tar.bz2',\n",
       " 'linux-64/conda-build-1.19.0.post13-13_g48c3b7a_py35.tar.bz2',\n",
       " 'linux-64/conda-build-1.19.0.post15-15_ga752213_py27.tar.bz2',\n",
       " 'linux-64/conda-build-1.19.0.post15-15_ga752213_py34.tar.bz2',\n",
       " 'linux-64/conda-build-1.19.0.post15-15_ga752213_py35.tar.bz2',\n",
       " 'linux-64/datamuxer-0.3.0.post0-0_g35b9b71_py27.tar.bz2',\n",
       " 'linux-64/datamuxer-0.3.0.post0-0_g35b9b71_py34.tar.bz2',\n",
       " 'linux-64/datamuxer-0.3.0.post0-0_g35b9b71_py35.tar.bz2',\n",
       " 'linux-64/datamuxer-v0.3.0.post0-0_g35b9b71_py27.tar.bz2',\n",
       " 'linux-64/datamuxer-v0.3.0.post0-0_g35b9b71_py34.tar.bz2',\n",
       " 'linux-64/datamuxer-v0.3.0.post0-0_g35b9b71_py35.tar.bz2',\n",
       " 'linux-64/doct-1.0.1.post7-7_gb811d2a_py27.tar.bz2',\n",
       " 'linux-64/doct-1.0.1.post7-7_gb811d2a_py34.tar.bz2',\n",
       " 'linux-64/doct-1.0.1.post7-7_gb811d2a_py35.tar.bz2',\n",
       " 'linux-64/filestore-v0.2.1.post51-51_gc13cdc2_py35.tar.bz2',\n",
       " 'linux-64/hdf5-lz4-GIT_STUB.postinf-_py34.tar.bz2',\n",
       " 'linux-64/historydict-v1.0.0.post24-24_g6193dc2_py27.tar.bz2',\n",
       " 'linux-64/historydict-v1.0.0.post24-24_g6193dc2_py34.tar.bz2',\n",
       " 'linux-64/historydict-v1.0.0.post24-24_g6193dc2_py35.tar.bz2',\n",
       " 'linux-64/lmfit-0.9.2.post22-22_g1624c59_np19py27.tar.bz2',\n",
       " 'linux-64/lmfit-0.9.2.post22-22_g1624c59_np19py34.tar.bz2',\n",
       " 'linux-64/lmfit-0.9.2.post22-22_g1624c59_np19py35.tar.bz2',\n",
       " 'linux-64/lmfit-0.9.2.post22-22_g1624c59_npNonepy35.tar.bz2',\n",
       " 'linux-64/lmfit-0.9.2.post27-27_ga8cbeb5_np19py27.tar.bz2',\n",
       " 'linux-64/lmfit-0.9.2.post27-27_ga8cbeb5_np19py34.tar.bz2',\n",
       " 'linux-64/lmfit-0.9.2.post27-27_ga8cbeb5_np19py35.tar.bz2',\n",
       " 'linux-64/lmfit-0.9.2.post27-27_ga8cbeb5_py27.tar.bz2',\n",
       " 'linux-64/lmfit-0.9.2.post27-27_ga8cbeb5_py34.tar.bz2',\n",
       " 'linux-64/lmfit-0.9.2.post27-27_ga8cbeb5_py35.tar.bz2',\n",
       " 'linux-64/lmfit-0.9.3rc1.post0-0_gdf953eb_py27.tar.bz2',\n",
       " 'linux-64/lmfit-0.9.3rc1.post0-0_gdf953eb_py34.tar.bz2',\n",
       " 'linux-64/lmfit-0.9.3rc1.post0-0_gdf953eb_py35.tar.bz2',\n",
       " 'linux-64/metadatastore-v0.3.0.post24-24_gd09fe7d_py27.tar.bz2',\n",
       " 'linux-64/metadatastore-v0.3.0.post24-24_gd09fe7d_py34.tar.bz2',\n",
       " 'linux-64/metadatastore-v0.3.0.post24-24_gd09fe7d_py35.tar.bz2',\n",
       " 'linux-64/ophyd-0.2.0rc2.post43-py35_0.tar.bz2',\n",
       " 'linux-64/pims-v0.3.3rc1.post0-0_g598317c_py35.tar.bz2',\n",
       " 'linux-64/pyepics-3.2.5rc3.post13-13_g30b7929_np19py27.tar.bz2',\n",
       " 'linux-64/pyepics-3.2.5rc3.post13-13_g30b7929_np19py34.tar.bz2',\n",
       " 'linux-64/pyepics-3.2.5rc3.post13-13_g30b7929_np19py35.tar.bz2',\n",
       " 'linux-64/pyepics-3.2.5rc3.post13-13_g30b7929_npNonepy35.tar.bz2',\n",
       " 'linux-64/pyepics-3.2.5rc3.post13-13_g30b7929_py27.tar.bz2',\n",
       " 'linux-64/pyepics-3.2.5rc3.post13-13_g30b7929_py34.tar.bz2',\n",
       " 'linux-64/pyepics-3.2.5rc3.post13-13_g30b7929_py35.tar.bz2',\n",
       " 'linux-64/pyepics-3.2.5rc3.post15-15_g1f4bbe8_py27.tar.bz2',\n",
       " 'linux-64/pyepics-3.2.5rc3.post15-15_g1f4bbe8_py34.tar.bz2',\n",
       " 'linux-64/pyepics-3.2.5rc3.post15-15_g1f4bbe8_py35.tar.bz2',\n",
       " 'linux-64/pyepics-3.2.5rc3.post2-2_ge6c58d5_np19py27.tar.bz2',\n",
       " 'linux-64/pyepics-3.2.5rc3.post2-2_ge6c58d5_np19py34.tar.bz2',\n",
       " 'linux-64/pyepics-3.2.5rc3.post2-2_ge6c58d5_np19py35.tar.bz2',\n",
       " 'linux-64/pyepics-3.2.5rc3.post8-8_gcfc67a7_np19py27.tar.bz2',\n",
       " 'linux-64/pyepics-3.2.5rc3.post8-8_gcfc67a7_np19py34.tar.bz2',\n",
       " 'linux-64/pyepics-3.2.5rc3.post8-8_gcfc67a7_np19py35.tar.bz2',\n",
       " 'linux-64/pymongo-3.2.1.post0-0_g22fd629_py27.tar.bz2',\n",
       " 'linux-64/pymongo-3.2.1.post0-0_g22fd629_py34.tar.bz2',\n",
       " 'linux-64/pymongo-3.2.1.post0-0_g22fd629_py35.tar.bz2',\n",
       " 'linux-64/pyolog-v4.0.0.post5+g1a24409.post0-0_g1a24409_npNonepy35.tar.bz2',\n",
       " 'linux-64/pyolog-v4.0.0.post5+g1a24409.post2-2_g4a0581d_py35.tar.bz2',\n",
       " 'linux-64/scikit-beam-v0.0.6.post43-43_g574fbfe_npNonepy35.tar.bz2',\n",
       " 'linux-64/scikit-beam-v0.0.7.post12-12_g604affc_py35.tar.bz2',\n",
       " 'linux-64/slicerator-v0.9.7.post0-0_g837e7d5_py35.tar.bz2',\n",
       " 'linux-64/xray-vision-v0.0.4.post7-7_ge6b680f_npNonepy35.tar.bz2',\n",
       " 'linux-64/xray-vision-v0.0.4.post7-7_ge6b680f_py35.tar.bz2'}"
      ]
     },
     "execution_count": 137,
     "metadata": {},
     "output_type": "execute_result"
    }
   ],
   "source": [
    "lightsource2_packages"
   ]
  },
  {
   "cell_type": "code",
   "execution_count": 138,
   "metadata": {
    "collapsed": false
   },
   "outputs": [
    {
     "name": "stdout",
     "output_type": "stream",
     "text": [
      "6 / 54 packages already exist on lightsource2-dev\n",
      "linux-64/datamuxer-0.3.0.post0-0_g35b9b71_py27.tar.bz2\n",
      "linux-64/datamuxer-0.3.0.post0-0_g35b9b71_py34.tar.bz2\n",
      "linux-64/datamuxer-0.3.0.post0-0_g35b9b71_py35.tar.bz2\n",
      "linux-64/doct-1.0.1.post7-7_gb811d2a_py27.tar.bz2\n",
      "linux-64/doct-1.0.1.post7-7_gb811d2a_py34.tar.bz2\n",
      "linux-64/doct-1.0.1.post7-7_gb811d2a_py35.tar.bz2\n",
      "\n",
      "48 / 54 packages do not exist on lightsource2-dev\n",
      "linux-64/album-0.0.2.post0-0_g6b05c00_py27.tar.bz2\n",
      "linux-64/album-0.0.2.post0-0_g6b05c00_py34.tar.bz2\n",
      "linux-64/album-0.0.2.post0-0_g6b05c00_py35.tar.bz2\n",
      "linux-64/bluesky-0.4.0rc2.post23-23_gd9d1f42_py27.tar.bz2\n",
      "linux-64/bluesky-0.4.0rc2.post23-23_gd9d1f42_py34.tar.bz2\n",
      "linux-64/bluesky-0.4.0rc2.post23-23_gd9d1f42_py35.tar.bz2\n",
      "linux-64/channelarchiver-0.0.5.6.post0-0_gfac126f_py27.tar.bz2\n",
      "linux-64/channelarchiver-0.0.5.6.post0-0_gfac126f_py34.tar.bz2\n",
      "linux-64/channelarchiver-0.0.5.6.post0-0_gfac126f_py35.tar.bz2\n",
      "linux-64/conda-build-1.19.0.post30-30_g4e4808d_py27.tar.bz2\n",
      "linux-64/conda-build-1.19.0.post30-30_g4e4808d_py34.tar.bz2\n",
      "linux-64/conda-build-1.19.0.post30-30_g4e4808d_py35.tar.bz2\n",
      "linux-64/databroker-0.3.1.post26-26_g20429e2_py27.tar.bz2\n",
      "linux-64/databroker-0.3.1.post26-26_g20429e2_py34.tar.bz2\n",
      "linux-64/databroker-0.3.1.post26-26_g20429e2_py35.tar.bz2\n",
      "linux-64/dataportal-0.2.3.post10-10_gaa25851_py27.tar.bz2\n",
      "linux-64/dataportal-0.2.3.post10-10_gaa25851_py34.tar.bz2\n",
      "linux-64/dataportal-0.2.3.post10-10_gaa25851_py35.tar.bz2\n",
      "linux-64/eiger-io-0.0.4.post0-py27_0.tar.bz2\n",
      "linux-64/eiger-io-0.0.4.post0-py34_0.tar.bz2\n",
      "linux-64/eiger-io-0.0.4.post0-py35_0.tar.bz2\n",
      "linux-64/filestore-0.2.2.post5-5_g3bc4a5f_py27.tar.bz2\n",
      "linux-64/filestore-0.2.2.post5-5_g3bc4a5f_py34.tar.bz2\n",
      "linux-64/filestore-0.2.2.post5-5_g3bc4a5f_py35.tar.bz2\n",
      "linux-64/historydict-1.0.0.post24-24_g6193dc2_py27.tar.bz2\n",
      "linux-64/historydict-1.0.0.post24-24_g6193dc2_py34.tar.bz2\n",
      "linux-64/historydict-1.0.0.post24-24_g6193dc2_py35.tar.bz2\n",
      "linux-64/metadatastore-0.3.0.post24-24_gd09fe7d_py27.tar.bz2\n",
      "linux-64/metadatastore-0.3.0.post24-24_gd09fe7d_py34.tar.bz2\n",
      "linux-64/metadatastore-0.3.0.post24-24_gd09fe7d_py35.tar.bz2\n",
      "linux-64/ophyd-0.2.0rc2.post54-54_g35b395b_py27.tar.bz2\n",
      "linux-64/ophyd-0.2.0rc2.post54-54_g35b395b_py34.tar.bz2\n",
      "linux-64/ophyd-0.2.0rc2.post54-54_g35b395b_py35.tar.bz2\n",
      "linux-64/pims-0.3.3.post0-0_g1bea480_py27.tar.bz2\n",
      "linux-64/pims-0.3.3.post0-0_g1bea480_py34.tar.bz2\n",
      "linux-64/pims-0.3.3.post0-0_g1bea480_py35.tar.bz2\n",
      "linux-64/scikit-beam-0.0.7.post42-42_g5503a61_py27.tar.bz2\n",
      "linux-64/scikit-beam-0.0.7.post42-42_g5503a61_py34.tar.bz2\n",
      "linux-64/scikit-beam-0.0.7.post42-42_g5503a61_py35.tar.bz2\n",
      "linux-64/slicerator-0.9.7.post0-0_g837e7d5_py27.tar.bz2\n",
      "linux-64/slicerator-0.9.7.post0-0_g837e7d5_py34.tar.bz2\n",
      "linux-64/slicerator-0.9.7.post0-0_g837e7d5_py35.tar.bz2\n",
      "linux-64/suitcase-0.2.2.post0-0_g2f47ea7_py27.tar.bz2\n",
      "linux-64/suitcase-0.2.2.post0-0_g2f47ea7_py34.tar.bz2\n",
      "linux-64/suitcase-0.2.2.post0-0_g2f47ea7_py35.tar.bz2\n",
      "linux-64/xray-vision-0.0.4.post7-7_ge6b680f_py27.tar.bz2\n",
      "linux-64/xray-vision-0.0.4.post7-7_ge6b680f_py34.tar.bz2\n",
      "linux-64/xray-vision-0.0.4.post7-7_ge6b680f_py35.tar.bz2\n"
     ]
    }
   ],
   "source": [
    "lightsource2_packages = get_file_names_on_anaconda_channel('lightsource2-dev')\n",
    "build_package = []\n",
    "dont_build_package = []\n",
    "for name, cmd in build_names:\n",
    "    if name in lightsource2_packages:\n",
    "        dont_build_package.append((name, cmd))\n",
    "    else:\n",
    "        build_package.append((name, cmd))\n",
    "\n",
    "print(\"%s / %s packages already exist on %s\" % (\n",
    "        len(dont_build_package), \n",
    "        len(dont_build_package) + len(build_package),\n",
    "        username))\n",
    "if dont_build_package:\n",
    "    for pkg, cmd in dont_build_package:\n",
    "        print(pkg)\n",
    "else:\n",
    "    print(\"No packages exist on %s\" % username)\n",
    "print()\n",
    "\n",
    "print(\"%s / %s packages do not exist on %s\" % (\n",
    "        len(build_package), \n",
    "        len(dont_build_package) + len(build_package),\n",
    "        username))\n",
    "if build_package:\n",
    "    for pkg, cmd in build_package:\n",
    "        print(pkg)\n",
    "else:\n",
    "    print(\"No packages to be built.\")\n",
    "    \n",
    "# print(\"%s: %s\" % (build_this_package, build_name))\n"
   ]
  },
  {
   "cell_type": "code",
   "execution_count": null,
   "metadata": {
    "collapsed": false
   },
   "outputs": [],
   "source": [
    "for pkg, cmd in build_package[:2]:\n",
    "    print(\"Building %s\" % pkg)\n",
    "    print(\"Subprocess command: %s\" % pkg)\n",
    "    ret = subprocess.check_output(cmd, stderr=subprocess.STDOUT).decode().strip()\n",
    "    print(ret)"
   ]
  },
  {
   "cell_type": "code",
   "execution_count": null,
   "metadata": {
    "collapsed": true
   },
   "outputs": [],
   "source": []
  },
  {
   "cell_type": "code",
   "execution_count": 66,
   "metadata": {
    "collapsed": false
   },
   "outputs": [
    {
     "data": {
      "text/plain": [
       "{'linux-64/boltons-16.0.0.post12-12_ge853701_py27.tar.bz2',\n",
       " 'linux-64/boltons-16.0.0.post12-12_ge853701_py34.tar.bz2',\n",
       " 'linux-64/boltons-16.0.0.post12-12_ge853701_py35.tar.bz2',\n",
       " 'linux-64/boltons-16.0.0.post13-13_g11f3c15_py27.tar.bz2',\n",
       " 'linux-64/boltons-16.0.0.post13-13_g11f3c15_py34.tar.bz2',\n",
       " 'linux-64/boltons-16.0.0.post13-13_g11f3c15_py35.tar.bz2',\n",
       " 'linux-64/boltons-16.0.0.post4-4_gc394b86.tar.bz2',\n",
       " 'linux-64/boltons-16.0.0.post6-6_g968841a.tar.bz2',\n",
       " 'linux-64/boltons-16.0.0.post8-8_g6d186bf.tar.bz2',\n",
       " 'linux-64/boltons-16.0.0.post8-8_g6d186bf_py27.tar.bz2',\n",
       " 'linux-64/boltons-16.0.0.post8-8_g6d186bf_py34.tar.bz2',\n",
       " 'linux-64/boltons-16.0.0.post8-8_g6d186bf_py35.tar.bz2',\n",
       " 'linux-64/channelarchiver-0.0.5.post6-6_gfac126f_np19py27.tar.bz2',\n",
       " 'linux-64/channelarchiver-0.0.5.post6-6_gfac126f_np19py34.tar.bz2',\n",
       " 'linux-64/channelarchiver-0.0.5.post6-6_gfac126f_np19py35.tar.bz2',\n",
       " 'linux-64/channelarchiver-0.0.5.post6-6_gfac126f_npNonepy35.tar.bz2',\n",
       " 'linux-64/channelarchiver-0.0.5.post6-6_gfac126f_py27.tar.bz2',\n",
       " 'linux-64/channelarchiver-0.0.5.post6-6_gfac126f_py34.tar.bz2',\n",
       " 'linux-64/channelarchiver-0.0.5.post6-6_gfac126f_py35.tar.bz2',\n",
       " 'linux-64/conda-build-1.19.0.post11-11_g456b843_py27.tar.bz2',\n",
       " 'linux-64/conda-build-1.19.0.post11-11_g456b843_py34.tar.bz2',\n",
       " 'linux-64/conda-build-1.19.0.post11-11_g456b843_py35.tar.bz2',\n",
       " 'linux-64/conda-build-1.19.0.post13-13_g48c3b7a_py27.tar.bz2',\n",
       " 'linux-64/conda-build-1.19.0.post13-13_g48c3b7a_py34.tar.bz2',\n",
       " 'linux-64/conda-build-1.19.0.post13-13_g48c3b7a_py35.tar.bz2',\n",
       " 'linux-64/conda-build-1.19.0.post15-15_ga752213_py27.tar.bz2',\n",
       " 'linux-64/conda-build-1.19.0.post15-15_ga752213_py34.tar.bz2',\n",
       " 'linux-64/conda-build-1.19.0.post15-15_ga752213_py35.tar.bz2',\n",
       " 'linux-64/datamuxer-0.3.0.post0-0_g35b9b71_py27.tar.bz2',\n",
       " 'linux-64/datamuxer-0.3.0.post0-0_g35b9b71_py34.tar.bz2',\n",
       " 'linux-64/datamuxer-0.3.0.post0-0_g35b9b71_py35.tar.bz2',\n",
       " 'linux-64/datamuxer-v0.3.0.post0-0_g35b9b71_py27.tar.bz2',\n",
       " 'linux-64/datamuxer-v0.3.0.post0-0_g35b9b71_py34.tar.bz2',\n",
       " 'linux-64/datamuxer-v0.3.0.post0-0_g35b9b71_py35.tar.bz2',\n",
       " 'linux-64/doct-1.0.1.post7-7_gb811d2a_py27.tar.bz2',\n",
       " 'linux-64/doct-1.0.1.post7-7_gb811d2a_py34.tar.bz2',\n",
       " 'linux-64/doct-1.0.1.post7-7_gb811d2a_py35.tar.bz2',\n",
       " 'linux-64/filestore-v0.2.1.post51-51_gc13cdc2_py35.tar.bz2',\n",
       " 'linux-64/hdf5-lz4-GIT_STUB.postinf-_py34.tar.bz2',\n",
       " 'linux-64/historydict-v1.0.0.post24-24_g6193dc2_py27.tar.bz2',\n",
       " 'linux-64/historydict-v1.0.0.post24-24_g6193dc2_py34.tar.bz2',\n",
       " 'linux-64/historydict-v1.0.0.post24-24_g6193dc2_py35.tar.bz2',\n",
       " 'linux-64/lmfit-0.9.2.post22-22_g1624c59_np19py27.tar.bz2',\n",
       " 'linux-64/lmfit-0.9.2.post22-22_g1624c59_np19py34.tar.bz2',\n",
       " 'linux-64/lmfit-0.9.2.post22-22_g1624c59_np19py35.tar.bz2',\n",
       " 'linux-64/lmfit-0.9.2.post22-22_g1624c59_npNonepy35.tar.bz2',\n",
       " 'linux-64/lmfit-0.9.2.post27-27_ga8cbeb5_np19py27.tar.bz2',\n",
       " 'linux-64/lmfit-0.9.2.post27-27_ga8cbeb5_np19py34.tar.bz2',\n",
       " 'linux-64/lmfit-0.9.2.post27-27_ga8cbeb5_np19py35.tar.bz2',\n",
       " 'linux-64/lmfit-0.9.2.post27-27_ga8cbeb5_py27.tar.bz2',\n",
       " 'linux-64/lmfit-0.9.2.post27-27_ga8cbeb5_py34.tar.bz2',\n",
       " 'linux-64/lmfit-0.9.2.post27-27_ga8cbeb5_py35.tar.bz2',\n",
       " 'linux-64/lmfit-0.9.3rc1.post0-0_gdf953eb_py27.tar.bz2',\n",
       " 'linux-64/lmfit-0.9.3rc1.post0-0_gdf953eb_py34.tar.bz2',\n",
       " 'linux-64/lmfit-0.9.3rc1.post0-0_gdf953eb_py35.tar.bz2',\n",
       " 'linux-64/metadatastore-v0.3.0.post24-24_gd09fe7d_py27.tar.bz2',\n",
       " 'linux-64/metadatastore-v0.3.0.post24-24_gd09fe7d_py34.tar.bz2',\n",
       " 'linux-64/metadatastore-v0.3.0.post24-24_gd09fe7d_py35.tar.bz2',\n",
       " 'linux-64/ophyd-0.2.0rc2.post43-py35_0.tar.bz2',\n",
       " 'linux-64/pims-v0.3.3rc1.post0-0_g598317c_py35.tar.bz2',\n",
       " 'linux-64/pyepics-3.2.5rc3.post13-13_g30b7929_np19py27.tar.bz2',\n",
       " 'linux-64/pyepics-3.2.5rc3.post13-13_g30b7929_np19py34.tar.bz2',\n",
       " 'linux-64/pyepics-3.2.5rc3.post13-13_g30b7929_np19py35.tar.bz2',\n",
       " 'linux-64/pyepics-3.2.5rc3.post13-13_g30b7929_npNonepy35.tar.bz2',\n",
       " 'linux-64/pyepics-3.2.5rc3.post13-13_g30b7929_py27.tar.bz2',\n",
       " 'linux-64/pyepics-3.2.5rc3.post13-13_g30b7929_py34.tar.bz2',\n",
       " 'linux-64/pyepics-3.2.5rc3.post13-13_g30b7929_py35.tar.bz2',\n",
       " 'linux-64/pyepics-3.2.5rc3.post15-15_g1f4bbe8_py27.tar.bz2',\n",
       " 'linux-64/pyepics-3.2.5rc3.post15-15_g1f4bbe8_py34.tar.bz2',\n",
       " 'linux-64/pyepics-3.2.5rc3.post15-15_g1f4bbe8_py35.tar.bz2',\n",
       " 'linux-64/pyepics-3.2.5rc3.post2-2_ge6c58d5_np19py27.tar.bz2',\n",
       " 'linux-64/pyepics-3.2.5rc3.post2-2_ge6c58d5_np19py34.tar.bz2',\n",
       " 'linux-64/pyepics-3.2.5rc3.post2-2_ge6c58d5_np19py35.tar.bz2',\n",
       " 'linux-64/pyepics-3.2.5rc3.post8-8_gcfc67a7_np19py27.tar.bz2',\n",
       " 'linux-64/pyepics-3.2.5rc3.post8-8_gcfc67a7_np19py34.tar.bz2',\n",
       " 'linux-64/pyepics-3.2.5rc3.post8-8_gcfc67a7_np19py35.tar.bz2',\n",
       " 'linux-64/pymongo-3.2.1.post0-0_g22fd629_py27.tar.bz2',\n",
       " 'linux-64/pymongo-3.2.1.post0-0_g22fd629_py34.tar.bz2',\n",
       " 'linux-64/pymongo-3.2.1.post0-0_g22fd629_py35.tar.bz2',\n",
       " 'linux-64/pyolog-v4.0.0.post5+g1a24409.post0-0_g1a24409_npNonepy35.tar.bz2',\n",
       " 'linux-64/pyolog-v4.0.0.post5+g1a24409.post2-2_g4a0581d_py35.tar.bz2',\n",
       " 'linux-64/scikit-beam-v0.0.6.post43-43_g574fbfe_npNonepy35.tar.bz2',\n",
       " 'linux-64/scikit-beam-v0.0.7.post12-12_g604affc_py35.tar.bz2',\n",
       " 'linux-64/slicerator-v0.9.7.post0-0_g837e7d5_py35.tar.bz2',\n",
       " 'linux-64/xray-vision-v0.0.4.post7-7_ge6b680f_npNonepy35.tar.bz2',\n",
       " 'linux-64/xray-vision-v0.0.4.post7-7_ge6b680f_py35.tar.bz2'}"
      ]
     },
     "execution_count": 66,
     "metadata": {},
     "output_type": "execute_result"
    }
   ],
   "source": [
    "lightsource2"
   ]
  },
  {
   "cell_type": "code",
   "execution_count": 52,
   "metadata": {
    "collapsed": false
   },
   "outputs": [
    {
     "data": {
      "text/plain": [
       "[]"
      ]
     },
     "execution_count": 52,
     "metadata": {},
     "output_type": "execute_result"
    }
   ],
   "source": [
    "name = os.path.splitext(os.path.splitext(build_names[1])[0])[0]\n",
    "cli.search(name)"
   ]
  },
  {
   "cell_type": "code",
   "execution_count": null,
   "metadata": {
    "collapsed": true
   },
   "outputs": [],
   "source": []
  }
 ],
 "metadata": {
  "kernelspec": {
   "display_name": "Python 3",
   "language": "python",
   "name": "python3"
  },
  "language_info": {
   "codemirror_mode": {
    "name": "ipython",
    "version": 3
   },
   "file_extension": ".py",
   "mimetype": "text/x-python",
   "name": "python",
   "nbconvert_exporter": "python",
   "pygments_lexer": "ipython3",
   "version": "3.5.1"
  }
 },
 "nbformat": 4,
 "nbformat_minor": 0
}
