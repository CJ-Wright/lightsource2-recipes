{
 "cells": [
  {
   "cell_type": "code",
   "execution_count": 54,
   "metadata": {
    "collapsed": true
   },
   "outputs": [],
   "source": [
    "import os\n",
    "import yaml\n",
    "import fnmatch\n",
    "from conda_build.metadata import MetaData\n",
    "from pprint import pprint\n",
    "import binstar_client\n",
    "import matplotlib.pyplot as plt\n",
    "import copy"
   ]
  },
  {
   "cell_type": "code",
   "execution_count": 2,
   "metadata": {
    "collapsed": false
   },
   "outputs": [
    {
     "name": "stderr",
     "output_type": "stream",
     "text": [
      "Using Anaconda Cloud api site https://api.anaconda.org\n"
     ]
    }
   ],
   "source": [
    "cli = binstar_client.utils.get_server_api()\n",
    "packages_on_conda_forge = set([f['full_name'].split('/')[1] for f in cli.show_channel('main', 'conda-forge')['files']])"
   ]
  },
  {
   "cell_type": "code",
   "execution_count": 3,
   "metadata": {
    "collapsed": true
   },
   "outputs": [],
   "source": [
    "def sanitize_names(list_of_names):\n",
    "    list_of_names = [name.split(' ')[0] for name in list_of_names]\n",
    "    list_of_names = [name for name in list_of_names if name not in packages_on_conda_forge]\n",
    "    return list_of_names"
   ]
  },
  {
   "cell_type": "code",
   "execution_count": 4,
   "metadata": {
    "collapsed": false
   },
   "outputs": [],
   "source": [
    "path = os.path.join(os.path.expanduser(\"~\"), 'dev', 'conda', 'auto-build-tagged-recipes')\n",
    "build = {}\n",
    "run = {}\n",
    "for parent_folder in ['enaml-stack', 'nonpy', 'py2', 'py3', 'pyall', \n",
    "                      os.path.join('sort-of-dev-but-actually-tag', 'py3')]:\n",
    "    for folder in os.listdir(os.path.join(path, parent_folder)):\n",
    "        if '.yaml' in folder:\n",
    "            continue\n",
    "        full_path = os.path.join(parent_folder, folder)\n",
    "        meta = MetaData(os.path.join(path, full_path))\n",
    "        name = meta.meta['package']['name']\n",
    "        if name in packages_on_conda_forge:\n",
    "            continue\n",
    "        build[name] = sanitize_names(meta.meta.get('requirements', {}).get('build', []))\n",
    "        run[name] = sanitize_names(meta.meta.get('requirements', {}).get('run', []))"
   ]
  },
  {
   "cell_type": "code",
   "execution_count": 55,
   "metadata": {
    "collapsed": true
   },
   "outputs": [],
   "source": [
    "union = copy.deepcopy(build)\n",
    "for package, deps in run.items():\n",
    "    union[package] = set(build.get(package) + run.get(package))"
   ]
  },
  {
   "cell_type": "code",
   "execution_count": 58,
   "metadata": {
    "collapsed": false
   },
   "outputs": [],
   "source": [
    "%matplotlib inline\n",
    "import networkx as nx\n",
    "kw = dict(node_size=5, node_color='w', edge_color='b', alpha=0.25)\n",
    "\n",
    "def make_network(packages_dict):\n",
    "    G = nx.DiGraph()\n",
    "    for package, deps in packages_dict.items():\n",
    "#         print(package)\n",
    "        for dep in deps:\n",
    "#             print('\\t{}'.format(dep))\n",
    "            G.add_edge(package, dep)\n",
    "    return G"
   ]
  },
  {
   "cell_type": "code",
   "execution_count": 59,
   "metadata": {
    "collapsed": false
   },
   "outputs": [],
   "source": [
    "run_G = make_network(run)\n",
    "build_G = make_network(build)\n",
    "all_G = make_network(union)"
   ]
  },
  {
   "cell_type": "code",
   "execution_count": 70,
   "metadata": {
    "collapsed": false
   },
   "outputs": [],
   "source": [
    "def trim_nodes(G, d):\n",
    "    \"\"\"Returns a copy of G without the nodes with a degree less than d.\n",
    "    http://glowingpython.blogspot.com/2012/11/first-steps-with-networx.html\n",
    "    \"\"\"\n",
    "    Gt = G.copy()\n",
    "    dn = nx.degree(Gt)\n",
    "    for n in Gt.nodes():\n",
    "        if dn[n] <= d:\n",
    "            Gt.remove_node(n)\n",
    "    return Gt\n",
    "\n",
    "def plot_deps(G, node, function):\n",
    "    h = nx.from_dict_of_lists({node: getattr(G, function)(node)})\n",
    "    nx.draw(h, with_labels=True, **kw)\n"
   ]
  },
  {
   "cell_type": "code",
   "execution_count": 73,
   "metadata": {
    "collapsed": false
   },
   "outputs": [
    {
     "data": {
      "image/png": "[encoded data removed]",
      "text/plain": [
       "<matplotlib.figure.Figure at 0x7f8696d83710>"
      ]
     },
     "metadata": {},
     "output_type": "display_data"
    }
   ],
   "source": [
    "plot_deps(all_G, 'boltons', 'neighbors')"
   ]
  },
  {
   "cell_type": "code",
   "execution_count": 75,
   "metadata": {
    "collapsed": true
   },
   "outputs": [],
   "source": [
    "nx.path_graph?"
   ]
  },
  {
   "cell_type": "code",
   "execution_count": 76,
   "metadata": {
    "collapsed": true
   },
   "outputs": [],
   "source": [
    "nx.path_graph?"
   ]
  },
  {
   "cell_type": "code",
   "execution_count": 77,
   "metadata": {
    "collapsed": false
   },
   "outputs": [
    {
     "data": {
      "text/plain": [
       "[{'setuptools'},\n",
       " {'python'},\n",
       " {'pymongo'},\n",
       " {'tzlocal'},\n",
       " {'pytest'},\n",
       " {'numpy'},\n",
       " {'scikit-image'},\n",
       " {'slicerator'},\n",
       " {'pims'},\n",
       " {'boltons'},\n",
       " {'channelarchiver'},\n",
       " {'pyyaml'},\n",
       " {'filestore'},\n",
       " {'cytoolz'},\n",
       " {'metadatastore'},\n",
       " {'requests'},\n",
       " {'databroker'},\n",
       " {'csxtools'},\n",
       " {'cairo-gobject'},\n",
       " {'swig'},\n",
       " {'bokeh'},\n",
       " {'jupyter'},\n",
       " {'scipy'},\n",
       " {'super_state_machine'},\n",
       " {'epics-base'},\n",
       " {'pyepics'},\n",
       " {'prettytable'},\n",
       " {'ophyd'},\n",
       " {'hdf5-lz4'},\n",
       " {'pyqt'},\n",
       " {'suitcase'},\n",
       " {'openpyxl'},\n",
       " {'pytables'},\n",
       " {'conda-env'},\n",
       " {'conda_etc'},\n",
       " {'lmfit'},\n",
       " {'ixstools'},\n",
       " {'xray-vision'},\n",
       " {'historydict'},\n",
       " {'event-model'},\n",
       " {'bluesky'},\n",
       " {'datamuxer'},\n",
       " {'flask'},\n",
       " {'album'},\n",
       " {'scikit-beam'},\n",
       " {'analysis'},\n",
       " {'hgtools'},\n",
       " {'keyring'},\n",
       " {'pyolog'},\n",
       " {'fabio'},\n",
       " {'pip'},\n",
       " {'args'},\n",
       " {'clint'},\n",
       " {'kiwisolver'},\n",
       " {'numba'},\n",
       " {'future'},\n",
       " {'atom'},\n",
       " {'sphinx'},\n",
       " {'pcaspy'},\n",
       " {'ply'},\n",
       " {'gobject-introspection'},\n",
       " {'py3cairo'},\n",
       " {'pygobject3'},\n",
       " {'hkl'},\n",
       " {'pyasn1'},\n",
       " {'numexpr'},\n",
       " {'sphinx-bootstrap-theme'},\n",
       " {'enaml'},\n",
       " {'characteristic'},\n",
       " {'docutils'},\n",
       " {'trackpy'},\n",
       " {'collection'},\n",
       " {'pyxrf'},\n",
       " {'chxtools'},\n",
       " {'pyopenssl'},\n",
       " {'pyasn1-modules'},\n",
       " {'service_identity'},\n",
       " {'humanize'},\n",
       " {'breathe'},\n",
       " {'eiger-io'}]"
      ]
     },
     "execution_count": 77,
     "metadata": {},
     "output_type": "execute_result"
    }
   ],
   "source": [
    "list(nx.strongly_connected_components(all_G))"
   ]
  },
  {
   "cell_type": "code",
   "execution_count": 104,
   "metadata": {
    "collapsed": false
   },
   "outputs": [
    {
     "name": "stdout",
     "output_type": "stream",
     "text": [
      "Build Order\n",
      " 0: python\n",
      " 1: setuptools\n",
      " 2: pymongo\n",
      " 3: requests\n",
      " 4: numpy\n",
      " 5: pytest\n",
      " 6: boltons\n",
      " 7: pyyaml\n",
      " 8: metadatastore\n",
      " 9: slicerator\n",
      "10: scikit-image\n",
      "11: pims\n",
      "12: cytoolz\n",
      "13: filestore\n",
      "14: tzlocal\n",
      "15: channelarchiver\n",
      "16: databroker\n",
      "17: csxtools\n",
      "18: cairo-gobject\n",
      "19: swig\n",
      "20: bokeh\n",
      "21: jupyter\n",
      "22: scipy\n",
      "23: super_state_machine\n",
      "24: prettytable\n",
      "25: epics-base\n",
      "26: pyepics\n",
      "27: ophyd\n",
      "28: hdf5-lz4\n",
      "29: pyqt\n",
      "30: suitcase\n",
      "31: openpyxl\n",
      "32: pytables\n",
      "33: conda-env\n",
      "34: conda_etc\n",
      "35: lmfit\n",
      "36: ixstools\n",
      "37: scikit-beam\n",
      "38: flask\n",
      "39: album\n",
      "40: datamuxer\n",
      "41: xray-vision\n",
      "42: event-model\n",
      "43: historydict\n",
      "44: bluesky\n",
      "45: analysis\n",
      "46: hgtools\n",
      "47: keyring\n",
      "48: pyolog\n",
      "49: fabio\n",
      "50: pip\n",
      "51: args\n",
      "52: clint\n",
      "53: kiwisolver\n",
      "54: numba\n",
      "55: future\n",
      "56: atom\n",
      "57: sphinx\n",
      "58: pcaspy\n",
      "59: ply\n",
      "60: gobject-introspection\n",
      "61: py3cairo\n",
      "62: pygobject3\n",
      "63: hkl\n",
      "64: pyasn1\n",
      "65: numexpr\n",
      "66: sphinx-bootstrap-theme\n",
      "67: enaml\n",
      "68: characteristic\n",
      "69: docutils\n",
      "70: trackpy\n",
      "71: collection\n",
      "72: pyxrf\n",
      "73: chxtools\n",
      "74: pyasn1-modules\n",
      "75: pyopenssl\n",
      "76: service_identity\n",
      "77: humanize\n",
      "78: breathe\n",
      "79: eiger-io\n"
     ]
    }
   ],
   "source": [
    "print(\"Build Order\")\n",
    "for idx, item in enumerate(reversed(nx.topological_sort(all_G))):\n",
    "    print('{:>2}: {}'.format(idx, item))"
   ]
  },
  {
   "cell_type": "code",
   "execution_count": 93,
   "metadata": {
    "collapsed": false
   },
   "outputs": [
    {
     "name": "stdout",
     "output_type": "stream",
     "text": [
      "edges\n",
      "eiger-io filestore eiger-io filestore\n",
      "eiger-io numpy eiger-io numpy\n",
      "eiger-io pims eiger-io pims\n",
      "eiger-io setuptools eiger-io setuptools\n",
      "eiger-io python eiger-io python\n",
      "pims numpy pims dc204292-1bda-11e6-8a27-7c7a91b4df7f\n",
      "pims scikit-image pims scikit-image\n",
      "pims setuptools pims dc20494a-1bda-11e6-8a27-7c7a91b4df7f\n",
      "pims python pims dc204d0a-1bda-11e6-8a27-7c7a91b4df7f\n",
      "pims slicerator pims slicerator\n",
      "slicerator setuptools slicerator dc205070-1bda-11e6-8a27-7c7a91b4df7f\n",
      "slicerator python slicerator dc205318-1bda-11e6-8a27-7c7a91b4df7f\n",
      "filestore pyyaml filestore pyyaml\n",
      "filestore boltons filestore boltons\n",
      "filestore python filestore dc205714-1bda-11e6-8a27-7c7a91b4df7f\n",
      "filestore pymongo filestore pymongo\n",
      "filestore numpy filestore dc205980-1bda-11e6-8a27-7c7a91b4df7f\n",
      "filestore pims filestore dc205b2e-1bda-11e6-8a27-7c7a91b4df7f\n",
      "pims numpy pims dc205d0e-1bda-11e6-8a27-7c7a91b4df7f\n",
      "pims scikit-image pims dc205ebc-1bda-11e6-8a27-7c7a91b4df7f\n",
      "pims setuptools pims dc206092-1bda-11e6-8a27-7c7a91b4df7f\n",
      "pims python pims dc20625e-1bda-11e6-8a27-7c7a91b4df7f\n",
      "pims slicerator pims dc20640c-1bda-11e6-8a27-7c7a91b4df7f\n",
      "slicerator setuptools slicerator dc2065d8-1bda-11e6-8a27-7c7a91b4df7f\n",
      "slicerator python slicerator dc20677c-1bda-11e6-8a27-7c7a91b4df7f\n",
      "pymongo setuptools pymongo dc2069e8-1bda-11e6-8a27-7c7a91b4df7f\n",
      "pymongo python pymongo dc206b96-1bda-11e6-8a27-7c7a91b4df7f\n",
      "boltons python boltons dc206d94-1bda-11e6-8a27-7c7a91b4df7f\n",
      "boltons pytest boltons pytest\n"
     ]
    }
   ],
   "source": [
    "import uuid\n",
    "start = order[0]\n",
    "nodes = [order[0]] # start with first node in topological order\n",
    "labels = {}\n",
    "print(\"edges\")\n",
    "tree = nx.Graph()\n",
    "idx = 0\n",
    "while nodes:\n",
    "    idx += 1\n",
    "    source = nodes.pop()\n",
    "    labels[source] = str(idx) + '-' + source\n",
    "    for target in all_G.neighbors(source):\n",
    "        if target in tree:\n",
    "            t = uuid.uuid1() # new unique id\n",
    "        else:\n",
    "            t = target\n",
    "        labels[t] = target\n",
    "        tree.add_edge(source,t)\n",
    "        print(source,target,source,t)\n",
    "        nodes.append(target)"
   ]
  },
  {
   "cell_type": "code",
   "execution_count": 94,
   "metadata": {
    "collapsed": false
   },
   "outputs": [
    {
     "data": {
      "image/png": "[encoded data removed]",
      "text/plain": [
       "<matplotlib.figure.Figure at 0x7f8696cee390>"
      ]
     },
     "metadata": {},
     "output_type": "display_data"
    }
   ],
   "source": [
    "%matplotlib inline\n",
    "plt.figure()\n",
    "nx.draw(tree, labels=labels)\n"
   ]
  },
  {
   "cell_type": "code",
   "execution_count": 80,
   "metadata": {
    "collapsed": false
   },
   "outputs": [
    {
     "data": {
      "text/plain": [
       "<networkx.classes.digraph.DiGraph at 0x7f8696e45e80>"
      ]
     },
     "execution_count": 80,
     "metadata": {},
     "output_type": "execute_result"
    },
    {
     "data": {
      "image/png": "[encoded data removed]",
      "text/plain": [
       "<matplotlib.figure.Figure at 0x7f8696e45a20>"
      ]
     },
     "metadata": {},
     "output_type": "display_data"
    }
   ],
   "source": [
    "plt.subplots()\n",
    "nx.traversal.bfs_tree(all_G, 'enaml')"
   ]
  },
  {
   "cell_type": "code",
   "execution_count": null,
   "metadata": {
    "collapsed": true
   },
   "outputs": [],
   "source": []
  }
 ],
 "metadata": {
  "kernelspec": {
   "display_name": "Python 3",
   "language": "python",
   "name": "python3"
  },
  "language_info": {
   "codemirror_mode": {
    "name": "ipython",
    "version": 3
   },
   "file_extension": ".py",
   "mimetype": "text/x-python",
   "name": "python",
   "nbconvert_exporter": "python",
   "pygments_lexer": "ipython3",
   "version": "3.5.1"
  },
  "widgets": {
   "state": {},
   "version": "1.1.1"
  }
 },
 "nbformat": 4,
 "nbformat_minor": 0
}
