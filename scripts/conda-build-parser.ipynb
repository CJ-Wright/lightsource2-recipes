{
 "cells": [
  {
   "cell_type": "code",
   "execution_count": 3,
   "metadata": {
    "collapsed": false
   },
   "outputs": [],
   "source": [
    "\n",
    "from __future__ import (unicode_literals, absolute_import, division,\n",
    "                        print_function)\n",
    "import six\n",
    "\n",
    "import os\n",
    "from collections import OrderedDict\n",
    "\n",
    "def read_log_from_script(path_to_log):\n",
    "    \"\"\"\n",
    "    Parse the log that is output from the `dev-build` script\n",
    "\n",
    "    Parameters\n",
    "    ----------\n",
    "    path_to_log : str\n",
    "        The path to the log file that results from `bash dev-build > log 2>&1`\n",
    "\n",
    "    Yields\n",
    "    ------\n",
    "    package : str\n",
    "        The name of the package that is being built\n",
    "    output : list\n",
    "        The lines that were output for the build/test/upload of `package`\n",
    "    \"\"\"\n",
    "    BUILD_START_LINE = '/tmp/staged-recipes'\n",
    "    PACKAGE_NAME_LINE = '# $ anaconda upload '\n",
    "    full_path = os.path.abspath(path_to_log)\n",
    "    output = []\n",
    "    package_name = ''\n",
    "    with open(full_path, 'r') as f:\n",
    "        for line in f.readlines():\n",
    "            # remove white space and newline characters\n",
    "            line = line.strip()\n",
    "            if line.startswith(PACKAGE_NAME_LINE):\n",
    "                # split the line on the whitespace that looks something like:\n",
    "                # \"# $ anaconda upload /tmp/root/ramdisk/mc/conda-bld/linux-64/album-v0.0.2_py35.tar.bz2\"\n",
    "                built_package_path = line.split()[-1]\n",
    "                # remove the folder path\n",
    "                built_package_name = os.path.split(built_package_path)[-1]\n",
    "                # trim the '.tar.bz2'\n",
    "                built_name = built_package_name[:-8]\n",
    "            if line.startswith(BUILD_START_LINE):\n",
    "                # always have to treat the first package differently...\n",
    "                if package_name != '':\n",
    "                    yield package_name, built_name, output\n",
    "                package_name = os.path.split(line)[1]\n",
    "                built_name = '%s-build-name-not-found' % package_name\n",
    "                output = []\n",
    "            else:\n",
    "                output.append(line)\n",
    "    \n",
    "    yield package_name, built_name, output"
   ]
  },
  {
   "cell_type": "code",
   "execution_count": 4,
   "metadata": {
    "collapsed": true
   },
   "outputs": [],
   "source": [
    "def parse_conda_build(lines_iterable):\n",
    "    \"\"\"\n",
    "    Group the output from conda-build into\n",
    "    - 'build_init'\n",
    "    - 'build'\n",
    "    - 'test'\n",
    "    - 'upload'\n",
    "    \"\"\"\n",
    "    from collections import defaultdict\n",
    "    bundle = []\n",
    "    next_line_might_be_test = False\n",
    "    init = True\n",
    "    build = False\n",
    "    test = False\n",
    "    key = 'init'\n",
    "    ret = []\n",
    "    for line in lines_iterable:\n",
    "        bundle.append(line)\n",
    "        # init\n",
    "        if init:\n",
    "            if line.startswith(\"BUILD START\"):\n",
    "                line = bundle.pop()\n",
    "                ret.append((key, bundle))\n",
    "                bundle = [line]\n",
    "                init = False\n",
    "                build = True\n",
    "                key = 'build'\n",
    "        # build\n",
    "        if build:\n",
    "            if line.startswith(\"BUILD END\"):\n",
    "                next_line_might_be_test = True\n",
    "                build = False\n",
    "                continue\n",
    "        # determine if test or upload comes next\n",
    "        if next_line_might_be_test:\n",
    "            next_line_might_be_test = False\n",
    "            line = bundle.pop()\n",
    "            ret.append((key, bundle))\n",
    "            if line.startswith(\"TEST START\"):\n",
    "                test = True\n",
    "                key = 'test'\n",
    "                bundle = [line]\n",
    "            elif line.startswith('Nothing to test for'):\n",
    "                ret.append(('test', [line]))\n",
    "                bundle = []\n",
    "                key = 'upload'\n",
    "            else:\n",
    "                key = 'upload'\n",
    "                bundle = [line]\n",
    "        # test\n",
    "        if test:\n",
    "            if line.startswith(\"TEST END\"):\n",
    "                ret.append((key, bundle))\n",
    "                bundle = []\n",
    "                test = False\n",
    "                key='upload'\n",
    "    \n",
    "    if bundle:\n",
    "        ret.append((key, bundle))\n",
    "    return OrderedDict(ret)"
   ]
  },
  {
   "cell_type": "code",
   "execution_count": 5,
   "metadata": {
    "collapsed": false,
    "scrolled": false
   },
   "outputs": [
    {
     "name": "stdout",
     "output_type": "stream",
     "text": [
      "album-0.0.2-py35_0                                 -- ['init', 'build', 'test', 'upload']\n",
      "album-v0.0.2.post0-0_g6b05c00_py35                 -- ['init', 'build', 'test', 'upload']\n",
      "amx_configuration-2-1                              -- ['init', 'build', 'test', 'upload']\n",
      "analysis-2015_03-py35_2                            -- ['init', 'build', 'test', 'upload']\n",
      "args-0.1.0-py35_0                                  -- ['init', 'build', 'test', 'upload']\n",
      "autoconf-2.69-1                                    -- ['init', 'build', 'test', 'upload']\n",
      "automake-1.14-2                                    -- ['init', 'build', 'test', 'upload']\n",
      "bluesky-0.3.1-1_py35                               -- ['init', 'build', 'test', 'upload']\n",
      "bluesky-v0.4.0rc1.post105-105_g618d456_py35        -- ['init', 'build', 'test', 'upload']\n",
      "boltons-15.0.0-py35_0                              -- ['init', 'build', 'test', 'upload']\n",
      "boltons-16.0.0.post6-6_g968841a                    -- ['init', 'build', 'test', 'upload']\n",
      "channelarchiver-0.0.5-py35_0                       -- ['init', 'build', 'test', 'upload']\n",
      "channelarchiver-0.0.5.post6-6_gfac126f_py35        -- ['init', 'build', 'test', 'upload']\n",
      "chx_configuration-2-1                              -- ['init', 'build', 'test', 'upload']\n",
      "collection-2015_03-1                               -- ['init', 'build', 'test', 'upload']\n",
      "conda_etc-1-7                                      -- ['init', 'build', 'test', 'upload']\n",
      "csx2_configuration-1-2                             -- ['init', 'build', 'test', 'upload']\n",
      "csx_configuration-1-2                              -- ['init', 'build', 'test', 'upload']\n",
      "databroker-0.3.1-py35_0                            -- ['init', 'build', 'test', 'upload']\n",
      "databroker-v0.3.1.post0-0_g9499156_py35            -- ['init', 'build', 'test', 'upload']\n",
      "datamuxer-0.3.0-py35_0                             -- ['init', 'build', 'test', 'upload']\n",
      "datamuxer-v0.3.0.post0-0_g35b9b71_py35             -- ['init', 'build', 'test', 'upload']\n",
      "dataportal-v0.2.3.post10-10_gaa25851_py35          -- ['init', 'build', 'test', 'upload']\n",
      "doct-1.0.1-py35_0                                  -- ['init', 'build', 'test', 'upload']\n",
      "doct-v1.0.1.post7-7_gb811d2a_py35                  -- ['init', 'build', 'test', 'upload']\n",
      "filestore-0.2.2-py35_0                             -- ['init', 'build', 'test', 'upload']\n",
      "filestore-v0.2.2.post0-0_g5589127_py35             -- ['init', 'build', 'test', 'upload']\n",
      "hgtools-build-name-not-found                       -- ['init', 'build']\n",
      "historydict-1.0.0-py35_0                           -- ['init', 'build', 'test', 'upload']\n",
      "historydict-v1.0.0.post24-24_g6193dc2_py35         -- ['init', 'build', 'test', 'upload']\n",
      "humanize-build-name-not-found                      -- ['init', 'build']\n",
      "hxn_configuration-1-1                              -- ['init', 'build', 'test', 'upload']\n",
      "ixs_configuration-1-4                              -- ['init', 'build', 'test', 'upload']\n",
      "keyring-build-name-not-found                       -- ['init', 'build']\n",
      "lix_configuration-2-1                              -- ['init', 'build', 'test', 'upload']\n",
      "lmfit-0.8.3-py35_0                                 -- ['init', 'build', 'test', 'upload']\n",
      "lmfit-0.9.3rc1.post0-0_gdf953eb_py35               -- ['init', 'build', 'test', 'upload']\n",
      "m4-1.4.17-0                                        -- ['init', 'build', 'test', 'upload']\n",
      "metadatastore-0.3.1-py35_0                         -- ['init', 'build', 'test', 'upload']\n",
      "metadatastore-v0.3.0.post19-19_g66c8c4d_py35       -- ['init', 'build', 'test', 'upload']\n",
      "mongoengine-0.10.5-py35_2                          -- ['init', 'build', 'test', 'upload']\n",
      "ncurses-5.9-6                                      -- ['init', 'build', 'test', 'upload']\n",
      "nslsii_dev_configuration-1-3                       -- ['init', 'build', 'test', 'upload']\n",
      "ophyd-0.2.0rc1-1_py35                              -- ['init', 'build', 'test', 'upload']\n",
      "ophyd-0.2.0rc2.post45-py35_0                       -- ['init', 'build', 'test', 'upload']\n",
      "pcaspy-0.5.1.post17-1_g05ec8a9_py35                -- ['init', 'build', 'test', 'upload']\n",
      "pims-0.3.2-py35_1                                  -- ['init', 'build', 'test', 'upload']\n",
      "pims-v0.3.3rc1.post3-3_g1bea480_py35               -- ['init', 'build', 'test', 'upload']\n",
      "prettytable-0.7.2-py35_0                           -- ['init', 'build', 'test', 'upload']\n",
      "pyepics-3.2.5rc3.post13-13_g30b7929_py35           -- ['init', 'build', 'test', 'upload']\n",
      "pyepics-3.2.5rc3.post2-1_ge6c58d5_py35             -- ['init', 'build', 'test', 'upload']\n",
      "pymongo-3.2.1.post0-0_g22fd629_py35                -- ['init', 'build', 'test', 'upload']\n",
      "pymongo-build-name-not-found                       -- ['init', 'build']\n",
      "pyolog-v4.0.0.post5+g1a24409-py35_1                -- ['init', 'build', 'test', 'upload']\n",
      "pyolog-v4.0.0.post5+g1a24409.post2-2_g4a0581d_py35 -- ['init', 'build', 'test', 'upload']\n",
      "pyxrf-0.0.3-py35_1                                 -- ['init', 'build', 'test', 'upload']\n",
      "readline-build-name-not-found                      -- ['init', 'build']\n",
      "scikit-beam-v0.0.7.post18-18_gfa1b94b_py35         -- ['init', 'build', 'test', 'upload']\n",
      "slicerator-build-name-not-found                    -- ['init', 'build']\n",
      "slicerator-v0.9.7.post0-0_g837e7d5_py35            -- ['init', 'build', 'test', 'upload']\n",
      "suitcase-0.2.1-py35_0                              -- ['init', 'build', 'test', 'upload']\n",
      "suitcase-v0.2.2.post0-0_g2f47ea7_py35              -- ['init', 'build', 'test', 'upload']\n",
      "super_state_machine-build-name-not-found           -- ['init', 'build']\n",
      "tifffile-build-name-not-found                      -- ['init']\n",
      "tzlocal-build-name-not-found                       -- ['init', 'build']\n",
      "xray-vision-0.0.4-py35_0                           -- ['init', 'build', 'test', 'upload']\n",
      "xray-vision-v0.0.4.post7-7_ge6b680f_py35           -- ['init', 'build', 'test', 'upload']\n"
     ]
    }
   ],
   "source": [
    "log = 'build.log'\n",
    "gen = list(read_log_from_script(log))\n",
    "parsed = {built_name: parse_conda_build(lines) for name, built_name, lines in gen}\n",
    "width = max([len(name) for name in parsed.keys()])\n",
    "for name, groups in sorted(parsed.items()):\n",
    "    print(('{:%ds} -- {}' % width).format(name, [key for key, bundle in groups.items()]))"
   ]
  },
  {
   "cell_type": "code",
   "execution_count": 64,
   "metadata": {
    "collapsed": false
   },
   "outputs": [],
   "source": [
    "def parse_init(init_section):\n",
    "    ret = {}\n",
    "    gen = (line for line in init_section)\n",
    "    ret['err'] = []\n",
    "    for line in gen:\n",
    "        if 'CONDA_CMD' in line:\n",
    "            ret['build_command'] = line.split('-->')[1].strip()\n",
    "        line, err = check_for_errors(line, gen)\n",
    "        if err:\n",
    "            ret['err'].append(err)\n",
    "    return ret"
   ]
  },
  {
   "cell_type": "code",
   "execution_count": 67,
   "metadata": {
    "collapsed": false
   },
   "outputs": [
    {
     "data": {
      "text/plain": [
       "{'build_command': 'conda-build /tmp/staged-recipes/recipes/tifffile --python=3.5',\n",
       " 'err': [[\"Error: 'numpy x.x' requires external setting\"]]}"
      ]
     },
     "execution_count": 67,
     "metadata": {},
     "output_type": "execute_result"
    }
   ],
   "source": [
    "parse_init(parsed['tifffile-build-name-not-found']['init'])"
   ]
  },
  {
   "cell_type": "code",
   "execution_count": 7,
   "metadata": {
    "collapsed": false,
    "scrolled": false
   },
   "outputs": [
    {
     "data": {
      "text/plain": [
       "{'build_command': 'conda-build /tmp/staged-recipes/recipes/readline --python=3.5'}"
      ]
     },
     "execution_count": 7,
     "metadata": {},
     "output_type": "execute_result"
    }
   ],
   "source": [
    "parse_init(parsed['readline-build-name-not-found']['init'])"
   ]
  },
  {
   "cell_type": "code",
   "execution_count": 50,
   "metadata": {
    "collapsed": false
   },
   "outputs": [],
   "source": [
    "def check_for_errors(line, gen):\n",
    "    ERROR = \"Error: \"\n",
    "    TRACEBACK = 'Traceback (most recent call last):'\n",
    "    err = []\n",
    "    if line.startswith(ERROR) or line == TRACEBACK:\n",
    "        if line.startswith(ERROR) or line == TRACEBACK:\n",
    "            try:\n",
    "                while line != '':\n",
    "                    err.append(line)\n",
    "                    line = next(gen)\n",
    "            except StopIteration:\n",
    "                # this is thrown when the error goes to the end of the \n",
    "                # log section\n",
    "                pass\n",
    "    return line, err"
   ]
  },
  {
   "cell_type": "code",
   "execution_count": 51,
   "metadata": {
    "collapsed": false
   },
   "outputs": [],
   "source": [
    "def parse_build(build_section):\n",
    "    gen = (line for line in build_section)\n",
    "    PACKAGE_NAME = 'Package: '\n",
    "    ret = {'error': []}\n",
    "    error = False\n",
    "    traceback = False\n",
    "    lines = []\n",
    "    for line in gen:\n",
    "        if PACKAGE_NAME in line:\n",
    "            # format the package name\n",
    "            ret['built_name'] = line[len(PACKAGE_NAME):]\n",
    "        line, err = check_for_errors(line, gen)\n",
    "        if err:\n",
    "            ret['error'].append(err)\n",
    "            ret['built_name'] = 'failed'\n",
    "    return ret"
   ]
  },
  {
   "cell_type": "code",
   "execution_count": 52,
   "metadata": {
    "collapsed": false,
    "scrolled": false
   },
   "outputs": [
    {
     "data": {
      "text/plain": [
       "{'built_name': 'failed',\n",
       " 'error': [['Error: Connection error: [SSL: CERTIFICATE_VERIFY_FAILED] certificate verify failed (_ssl.c:645): https://pypi.python.org/packages/source/p/pymongo/pymongo-2.9.1.tar.gz'],\n",
       "  ['Error: Could not download pymongo-2.9.1.tar.gz']]}"
      ]
     },
     "execution_count": 52,
     "metadata": {},
     "output_type": "execute_result"
    }
   ],
   "source": [
    "ret = parse_build(parsed['pymongo-build-name-not-found']['build'])\n",
    "\n",
    "ret"
   ]
  },
  {
   "cell_type": "code",
   "execution_count": 56,
   "metadata": {
    "collapsed": false
   },
   "outputs": [],
   "source": [
    "p = {pkg_name: parse_build(grouped['build']) for pkg_name, grouped in parsed.items() if 'build' in grouped}"
   ]
  },
  {
   "cell_type": "code",
   "execution_count": 57,
   "metadata": {
    "collapsed": false
   },
   "outputs": [
    {
     "name": "stdout",
     "output_type": "stream",
     "text": [
      "super_state_machine-build-name-not-found\n",
      "keyring-build-name-not-found\n",
      "humanize-build-name-not-found\n",
      "hgtools-build-name-not-found\n",
      "readline-build-name-not-found\n",
      "slicerator-build-name-not-found\n",
      "tzlocal-build-name-not-found\n",
      "pymongo-build-name-not-found\n"
     ]
    }
   ],
   "source": [
    "for pkg_name, parsed_build in p.items():\n",
    "    if parsed_build['built_name'] == 'failed':\n",
    "        print(pkg_name)"
   ]
  },
  {
   "cell_type": "code",
   "execution_count": 15,
   "metadata": {
    "collapsed": false
   },
   "outputs": [],
   "source": [
    "def parse_test(test_section):\n",
    "    ret = {'error': {}}\n",
    "    for line in test_section:\n",
    "        print(line)"
   ]
  },
  {
   "cell_type": "code",
   "execution_count": 19,
   "metadata": {
    "collapsed": false,
    "scrolled": false
   },
   "outputs": [
    {
     "name": "stdout",
     "output_type": "stream",
     "text": [
      "TEST START: automake-1.14-2\n",
      "Fetching package metadata: ........\n",
      "Solving package specifications: ....+ automake --help\n",
      "Usage: /tmp/root/ramdisk/mc/envs/_test/bin/automake [OPTION]... [Makefile]...\n",
      "\n",
      "Generate Makefile.in for configure from Makefile.am.\n",
      "\n",
      "Operation modes:\n",
      "--help               print this help, then exit\n",
      "--version            print version number, then exit\n",
      "-v, --verbose            verbosely list files processed\n",
      "--no-force           only update Makefile.in's that are out of date\n",
      "-W, --warnings=CATEGORY  report the warnings falling in CATEGORY\n",
      "\n",
      "Dependency tracking:\n",
      "-i, --ignore-deps      disable dependency tracking code\n",
      "--include-deps     enable dependency tracking code\n",
      "\n",
      "Flavors:\n",
      "--foreign          set strictness to foreign\n",
      "--gnits            set strictness to gnits\n",
      "--gnu              set strictness to gnu\n",
      "\n",
      "Library files:\n",
      "-a, --add-missing      add missing standard files to package\n",
      "--libdir=DIR       set directory storing library files\n",
      "--print-libdir     print directory storing library files\n",
      "-c, --copy             with -a, copy missing files (default is symlink)\n",
      "-f, --force-missing    force update of standard files\n",
      "\n",
      "Warning categories include:\n",
      "gnu                GNU coding standards (default in gnu and gnits modes)\n",
      "obsolete           obsolete features or constructions\n",
      "override           user redefinitions of Automake rules or variables\n",
      "portability        portability issues (default in gnu and gnits modes)\n",
      "extra-portability  extra portability issues related to obscure tools\n",
      "syntax             dubious syntactic constructs (default)\n",
      "unsupported        unsupported or incomplete features (default)\n",
      "all                all the warnings\n",
      "no-CATEGORY        turn off warnings in CATEGORY\n",
      "none               turn off all the warnings\n",
      "error              treat warnings as errors\n",
      "\n",
      "Files automatically distributed if found (always):\n",
      "ABOUT-GNU           INSTALL             config.rpath        ltconfig\n",
      "ABOUT-NLS           NEWS                config.sub          ltmain.sh\n",
      "AUTHORS             README              depcomp             mdate-sh\n",
      "BACKLOG             THANKS              install-sh          missing\n",
      "COPYING             TODO                libversion.in       mkinstalldirs\n",
      "COPYING.DOC         ar-lib              ltcf-c.sh           py-compile\n",
      "COPYING.LESSER      compile             ltcf-cxx.sh         texinfo.tex\n",
      "COPYING.LIB         config.guess        ltcf-gcj.sh         ylwrap\n",
      "ChangeLog\n",
      "\n",
      "Files automatically distributed if found (under certain conditions):\n",
      "acconfig.h          config.h.bot        configure           configure.in\n",
      "aclocal.m4          config.h.top        configure.ac        stamp-vti\n",
      "\n",
      "Report bugs to <bug-automake@gnu.org>.\n",
      "GNU Automake home page: <http://www.gnu.org/software/automake/>.\n",
      "General help using GNU software: <http://www.gnu.org/gethelp/>.\n",
      "/tmp/root/ramdisk/mc/lib/python3.5/site-packages/requests/packages/urllib3/connection.py:266: SubjectAltNameWarning: Certificate for pergamon.cs.nsls2.local has no `subjectAltName`, falling back to check for a `commonName` for now. This feature is being removed by major browsers and deprecated by RFC 2818. (See https://github.com/shazow/urllib3/issues/497 for details.)\n",
      "SubjectAltNameWarning\n",
      "\n",
      "WARNING: conda-build appears to be out of date. You have version 1.18.1 but the\n",
      "latest version is 1.18.2. Run\n",
      "\n",
      "conda update -n root conda-build\n",
      "\n",
      "to get the latest version.\n",
      "\n",
      "\n",
      "WARNING: conda-build appears to be out of date. You have version 1.18.1 but the\n",
      "latest version is 1.18.2. Run\n",
      "\n",
      "conda update -n root conda-build\n",
      "\n",
      "to get the latest version.\n",
      "\n",
      "\n",
      "The following packages will be downloaded:\n",
      "\n",
      "package                    |            build\n",
      "---------------------------|-----------------\n",
      "automake-1.14              |                2         544 KB  file:///tmp/root/ramdisk/mc/conda-bld/linux-64/\n",
      "\n",
      "The following NEW packages will be INSTALLED:\n",
      "\n",
      "autoconf: 2.69-1   file:///tmp/root/ramdisk/mc/conda-bld/linux-64/\n",
      "automake: 1.14-2   file:///tmp/root/ramdisk/mc/conda-bld/linux-64/\n",
      "m4:       1.4.17-0 file:///tmp/root/ramdisk/mc/conda-bld/linux-64/\n",
      "\n",
      "Fetching packages ...\n",
      "automake-1.14-   0% |                              | ETA:  --:--:--   0.00  B/s\n",
      "automake-1.14-   2% |                               | ETA:  0:00:00  47.07 MB/s\n",
      "automake-1.14-   5% |#                              | ETA:  0:00:00  60.79 MB/s\n",
      "automake-1.14-   8% |##                             | ETA:  0:00:00  69.65 MB/s\n",
      "automake-1.14-  11% |###                            | ETA:  0:00:00  75.25 MB/s\n",
      "automake-1.14-  14% |####                           | ETA:  0:00:00  79.21 MB/s\n",
      "automake-1.14-  17% |#####                          | ETA:  0:00:00  81.49 MB/s\n",
      "automake-1.14-  20% |######                         | ETA:  0:00:00  83.67 MB/s\n",
      "automake-1.14-  23% |#######                        | ETA:  0:00:00  85.47 MB/s\n",
      "automake-1.14-  26% |########                       | ETA:  0:00:00  87.02 MB/s\n",
      "automake-1.14-  29% |#########                      | ETA:  0:00:00  88.34 MB/s\n",
      "automake-1.14-  32% |##########                     | ETA:  0:00:00  89.45 MB/s\n",
      "automake-1.14-  35% |##########                     | ETA:  0:00:00  90.43 MB/s\n",
      "automake-1.14-  38% |###########                    | ETA:  0:00:00  91.28 MB/s\n",
      "automake-1.14-  41% |############                   | ETA:  0:00:00  91.99 MB/s\n",
      "automake-1.14-  44% |#############                  | ETA:  0:00:00  92.60 MB/s\n",
      "automake-1.14-  47% |##############                 | ETA:  0:00:00  93.17 MB/s\n",
      "automake-1.14-  50% |###############                | ETA:  0:00:00  93.68 MB/s\n",
      "automake-1.14-  52% |################               | ETA:  0:00:00  94.14 MB/s\n",
      "automake-1.14-  55% |#################              | ETA:  0:00:00  94.55 MB/s\n",
      "automake-1.14-  58% |##################             | ETA:  0:00:00  94.96 MB/s\n",
      "automake-1.14-  61% |###################            | ETA:  0:00:00  95.32 MB/s\n",
      "automake-1.14-  64% |####################           | ETA:  0:00:00  95.67 MB/s\n",
      "automake-1.14-  67% |####################           | ETA:  0:00:00  96.00 MB/s\n",
      "automake-1.14-  70% |#####################          | ETA:  0:00:00  96.29 MB/s\n",
      "automake-1.14-  73% |######################         | ETA:  0:00:00  96.54 MB/s\n",
      "automake-1.14-  76% |#######################        | ETA:  0:00:00  96.81 MB/s\n",
      "automake-1.14-  79% |########################       | ETA:  0:00:00  97.05 MB/s\n",
      "automake-1.14-  82% |#########################      | ETA:  0:00:00  97.23 MB/s\n",
      "automake-1.14-  85% |##########################     | ETA:  0:00:00  97.45 MB/s\n",
      "automake-1.14-  88% |###########################    | ETA:  0:00:00  97.62 MB/s\n",
      "automake-1.14-  91% |############################   | ETA:  0:00:00  97.63 MB/s\n",
      "automake-1.14-  94% |#############################  | ETA:  0:00:00  97.76 MB/s\n",
      "automake-1.14-  97% |############################## | ETA:  0:00:00  97.91 MB/s\n",
      "automake-1.14- 100% |###############################| ETA:  0:00:00  98.00 MB/s\n",
      "automake-1.14- 100% |###############################| Time: 0:00:00  95.26 MB/s\n",
      "Extracting packages ...\n",
      "[      COMPLETE      ]|                                                  |   0%\n",
      "[automake            ]|                                                  |   0%\n",
      "[automake            ]|                                                  |   0%\n",
      "[      COMPLETE      ]|##################################################| 100%\n",
      "Linking packages ...\n",
      "[      COMPLETE      ]|                                                  |   0%\n",
      "[m4                  ]|                                                  |   0%\n",
      "[m4                  ]|                                                  |   0%\n",
      "[autoconf            ]|################                                  |  33%\n",
      "[automake            ]|#################################                 |  66%\n",
      "[      COMPLETE      ]|##################################################| 100%\n",
      "TEST END: automake-1.14-2\n"
     ]
    }
   ],
   "source": [
    "# ophyd has an error, let's investigate that a little more\n",
    "parse_test(parsed['automake-1.14-2']['test'])"
   ]
  },
  {
   "cell_type": "code",
   "execution_count": null,
   "metadata": {
    "collapsed": true
   },
   "outputs": [],
   "source": []
  }
 ],
 "metadata": {
  "kernelspec": {
   "display_name": "Python 3",
   "language": "python",
   "name": "python3"
  },
  "language_info": {
   "codemirror_mode": {
    "name": "ipython",
    "version": 3
   },
   "file_extension": ".py",
   "mimetype": "text/x-python",
   "name": "python",
   "nbconvert_exporter": "python",
   "pygments_lexer": "ipython3",
   "version": "3.5.1"
  }
 },
 "nbformat": 4,
 "nbformat_minor": 0
}
