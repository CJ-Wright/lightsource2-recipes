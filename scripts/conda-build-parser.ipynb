{
 "cells": [
  {
   "cell_type": "code",
   "execution_count": 50,
   "metadata": {
    "collapsed": false
   },
   "outputs": [
    {
     "name": "stdout",
     "output_type": "stream",
     "text": [
      "Automatic pdb calling has been turned ON\n"
     ]
    }
   ],
   "source": [
    "import pdb\n",
    "%pdb"
   ]
  },
  {
   "cell_type": "code",
   "execution_count": 100,
   "metadata": {
    "collapsed": true
   },
   "outputs": [],
   "source": [
    "print?"
   ]
  },
  {
   "cell_type": "code",
   "execution_count": 42,
   "metadata": {
    "collapsed": true
   },
   "outputs": [],
   "source": [
    "\n",
    "from __future__ import (unicode_literals, absolute_import, division,\n",
    "                        print_function)\n",
    "import six\n",
    "\n",
    "import os\n",
    "\n",
    "def read_log_from_script(path_to_log):\n",
    "    \"\"\"\n",
    "    Parse the log that is output from the `dev-build` script\n",
    "\n",
    "    Parameters\n",
    "    ----------\n",
    "    path_to_log : str\n",
    "        The path to the log file that results from `bash dev-build > log 2>&1`\n",
    "\n",
    "    Yields\n",
    "    ------\n",
    "    package : str\n",
    "        The name of the package that is being built\n",
    "    output : list\n",
    "        The lines that were output for the build/test/upload of `package`\n",
    "    \"\"\"\n",
    "    TARGET_LINE = '/tmp/staged-recipes'\n",
    "    full_path = os.path.abspath(path_to_log)\n",
    "    output = []\n",
    "    package_name = ''\n",
    "    with open(full_path, 'r') as f:\n",
    "        for line in f.readlines():\n",
    "            # remove white space and newline characters\n",
    "            line = line.strip()\n",
    "            if line.startswith(TARGET_LINE):\n",
    "                # always have to treat the first package differently...\n",
    "                if package_name != '':\n",
    "                    yield package_name, output\n",
    "                package_name = os.path.split(line)[1]\n",
    "                output = []\n",
    "            else:\n",
    "                output.append(line)"
   ]
  },
  {
   "cell_type": "code",
   "execution_count": 107,
   "metadata": {
    "collapsed": true
   },
   "outputs": [],
   "source": [
    "def parse_conda_build(lines_iterable):\n",
    "    \"\"\"\n",
    "    Group the output from conda-build into\n",
    "    - 'build_init'\n",
    "    - 'build'\n",
    "    - 'test'\n",
    "    - 'upload'\n",
    "    \"\"\"\n",
    "    from collections import defaultdict\n",
    "    bundle = []\n",
    "    end_section = iter([\"BUILD START\", \"TEST START\", \"TEST END\", \"no end to this section\"])\n",
    "    next_line_might_be_test = False\n",
    "    init = True\n",
    "    build = False\n",
    "    test = False\n",
    "    key = 'init'\n",
    "    ret = defaultdict(list)\n",
    "    for line in lines_iterable:\n",
    "        ret[key].append(line)\n",
    "        # init\n",
    "        if init:\n",
    "            if line.startswith(\"BUILD START\"):\n",
    "                init = False\n",
    "                build = True\n",
    "                key = 'build'\n",
    "        # build\n",
    "        if build:\n",
    "            if line.startswith(\"BUILD END\"):\n",
    "                next_line_might_be_test = True\n",
    "                build = False\n",
    "        # determine if test or upload comes next\n",
    "        if next_line_might_be_test:\n",
    "            if line.startswith(\"TEST START\"):\n",
    "                test = True\n",
    "                key = 'test'\n",
    "            else:\n",
    "                key = 'upload'\n",
    "        # test\n",
    "        if test:\n",
    "            if line.startswith(\"TEST END\"):\n",
    "                test = False\n",
    "    return ret"
   ]
  },
  {
   "cell_type": "code",
   "execution_count": 108,
   "metadata": {
    "collapsed": false
   },
   "outputs": [
    {
     "name": "stdout",
     "output_type": "stream",
     "text": [
      "album                -- ['build', 'test', 'init', 'upload']\n",
      "analysis             -- ['build', 'init', 'upload']\n",
      "args                 -- ['build', 'init', 'upload']\n",
      "autoconf             -- ['build', 'test', 'init', 'upload']\n",
      "automake             -- ['build', 'test', 'init', 'upload']\n",
      "bluesky              -- ['build', 'test', 'init', 'upload']\n",
      "boltons              -- ['build', 'test', 'init', 'upload']\n",
      "channelarchiver      -- ['build', 'test', 'init', 'upload']\n",
      "collection           -- ['build', 'init', 'upload']\n",
      "conda_etc            -- ['build', 'init', 'upload']\n",
      "config-amx           -- ['build', 'init', 'upload']\n",
      "config-chx           -- ['build', 'init', 'upload']\n",
      "config-csx1          -- ['build', 'init', 'upload']\n",
      "config-csx2          -- ['build', 'init', 'upload']\n",
      "config-dev           -- ['build', 'init', 'upload']\n",
      "config-hxn           -- ['build', 'init', 'upload']\n",
      "config-ixs           -- ['build', 'init', 'upload']\n",
      "config-lix           -- ['build', 'init', 'upload']\n",
      "databroker           -- ['build', 'test', 'init', 'upload']\n",
      "datamuxer            -- ['build', 'test', 'init', 'upload']\n",
      "dataportal           -- ['build', 'test', 'init', 'upload']\n",
      "doct                 -- ['build', 'test', 'init', 'upload']\n",
      "filestore            -- ['build', 'test', 'init', 'upload']\n",
      "hgtools              -- ['build', 'init']\n",
      "historydict          -- ['build', 'test', 'init', 'upload']\n",
      "humanize             -- ['build', 'init']\n",
      "keyring              -- ['build', 'init']\n",
      "lmfit                -- ['build', 'test', 'init', 'upload']\n",
      "m4                   -- ['build', 'test', 'init', 'upload']\n",
      "metadatastore        -- ['build', 'test', 'init', 'upload']\n",
      "mongoengine          -- ['build', 'test', 'init', 'upload']\n",
      "ncurses              -- ['build', 'init', 'upload']\n",
      "ophyd                -- ['build', 'test', 'init', 'upload']\n",
      "pcaspy               -- ['build', 'test', 'init', 'upload']\n",
      "pims                 -- ['build', 'test', 'init', 'upload']\n",
      "prettytable          -- ['build', 'test', 'init', 'upload']\n",
      "pyepics              -- ['build', 'test', 'init', 'upload']\n",
      "pymongo              -- ['build', 'init']\n",
      "pyolog               -- ['build', 'init', 'upload']\n",
      "pyxrf                -- ['build', 'init', 'upload']\n",
      "readline             -- ['build', 'init']\n",
      "scikit-beam          -- ['build', 'test', 'init', 'upload']\n",
      "slicerator           -- ['build', 'init']\n",
      "suitcase             -- ['build', 'test', 'init', 'upload']\n",
      "super_state_machine  -- ['build', 'init']\n",
      "tifffile             -- ['init']\n",
      "tzlocal              -- ['build', 'init']\n",
      "xray-vision          -- ['build', 'test', 'init', 'upload']\n"
     ]
    }
   ],
   "source": [
    "log = 'build.log'\n",
    "gen = list(read_log_from_script(log))\n",
    "parsed = {name: parse_conda_build(lines) for name, lines in gen}\n",
    "for name, groups in sorted(parsed.items()):\n",
    "    print('{:20s} -- {}'.format(name, list(groups.keys())))"
   ]
  },
  {
   "cell_type": "code",
   "execution_count": 110,
   "metadata": {
    "collapsed": false
   },
   "outputs": [
    {
     "data": {
      "text/plain": [
       "defaultdict(list,\n",
       "            {'build': ['Fetching package metadata: ........',\n",
       "              'Solving package specifications: ........../tmp/root/ramdisk/mc/lib/python3.5/site-packages/requests/packages/urllib3/connection.py:266: SubjectAltNameWarning: Certificate for pergamon.cs.nsls2.local has no `subjectAltName`, falling back to check for a `commonName` for now. This feature is being removed by major browsers and deprecated by RFC 2818. (See https://github.com/shazow/urllib3/issues/497 for details.)',\n",
       "              'SubjectAltNameWarning',\n",
       "              '',\n",
       "              'WARNING: conda-build appears to be out of date. You have version 1.18.1 but the',\n",
       "              'latest version is 1.18.2. Run',\n",
       "              '',\n",
       "              'conda update -n root conda-build',\n",
       "              '',\n",
       "              'to get the latest version.',\n",
       "              '',\n",
       "              'Could not connect to https://pypi.python.org/packages/source/p/pymongo/pymongo-2.9.1.tar.gz',\n",
       "              'Error: Connection error: [SSL: CERTIFICATE_VERIFY_FAILED] certificate verify failed (_ssl.c:645): https://pypi.python.org/packages/source/p/pymongo/pymongo-2.9.1.tar.gz',\n",
       "              '',\n",
       "              'The following NEW packages will be INSTALLED:',\n",
       "              '',\n",
       "              'ncurses:    5.9-6         file:///tmp/root/ramdisk/mc/conda-bld/linux-64/',\n",
       "              'openssl:    1.0.2d-0      https://pergamon.cs.nsls2.local:8443/conda/anaconda/linux-64/',\n",
       "              'pip:        7.1.2-py35_0  https://pergamon.cs.nsls2.local:8443/conda/anaconda/linux-64/',\n",
       "              'python:     3.5.1-0       https://pergamon.cs.nsls2.local:8443/conda/anaconda/linux-64/',\n",
       "              'readline:   6.2-12        https://pergamon.cs.nsls2.local:8443/conda/nsls2/linux-64/',\n",
       "              'setuptools: 19.1.1-py35_0 https://pergamon.cs.nsls2.local:8443/conda/anaconda/linux-64/',\n",
       "              'sqlite:     3.8.4.1-1     https://pergamon.cs.nsls2.local:8443/conda/anaconda/linux-64/',\n",
       "              'tk:         8.5.18-0      https://pergamon.cs.nsls2.local:8443/conda/anaconda/linux-64/',\n",
       "              'wheel:      0.26.0-py35_1 https://pergamon.cs.nsls2.local:8443/conda/anaconda/linux-64/',\n",
       "              'xz:         5.0.5-0       https://pergamon.cs.nsls2.local:8443/conda/anaconda/linux-64/',\n",
       "              'zlib:       1.2.8-0       https://pergamon.cs.nsls2.local:8443/conda/anaconda/linux-64/',\n",
       "              '',\n",
       "              'Linking packages ...',\n",
       "              '[                    ]|                                                  |   0%',\n",
       "              '[ncurses             ]|                                                  |   0%',\n",
       "              '[openssl             ]|####                                              |   9%',\n",
       "              '[sqlite              ]|#########                                         |  18%',\n",
       "              '[tk                  ]|#############                                     |  27%',\n",
       "              '[xz                  ]|##################                                |  36%',\n",
       "              '[zlib                ]|######################                            |  45%',\n",
       "              '[readline            ]|###########################                       |  54%',\n",
       "              '[python              ]|###############################                   |  63%',\n",
       "              '[setuptools          ]|####################################              |  72%',\n",
       "              '[wheel               ]|########################################          |  81%',\n",
       "              '[pip                 ]|#############################################     |  90%',\n",
       "              '[      COMPLETE      ]|##################################################| 100%',\n",
       "              'Removing old work directory',\n",
       "              'Source cache directory is: /tmp/root/ramdisk/mc/conda-bld/src_cache',\n",
       "              'Downloading source to cache: pymongo-2.9.1.tar.gz',\n",
       "              'Downloading https://pypi.python.org/packages/source/p/pymongo/pymongo-2.9.1.tar.gz',\n",
       "              'Error: Could not download pymongo-2.9.1.tar.gz'],\n",
       "             'init': ['CONDA_CMD is --> conda-build /tmp/staged-recipes/recipes/pymongo --python=3.5',\n",
       "              'Removing old build environment',\n",
       "              'Removing old work directory',\n",
       "              'BUILD START: pymongo-2.9.1-py35_0']})"
      ]
     },
     "execution_count": 110,
     "metadata": {},
     "output_type": "execute_result"
    }
   ],
   "source": [
    "parsed['pymongo']"
   ]
  },
  {
   "cell_type": "code",
   "execution_count": null,
   "metadata": {
    "collapsed": true
   },
   "outputs": [],
   "source": []
  }
 ],
 "metadata": {
  "kernelspec": {
   "display_name": "Python 3",
   "language": "python",
   "name": "python3"
  },
  "language_info": {
   "codemirror_mode": {
    "name": "ipython",
    "version": 3
   },
   "file_extension": ".py",
   "mimetype": "text/x-python",
   "name": "python",
   "nbconvert_exporter": "python",
   "pygments_lexer": "ipython3",
   "version": "3.5.1"
  }
 },
 "nbformat": 4,
 "nbformat_minor": 0
}
